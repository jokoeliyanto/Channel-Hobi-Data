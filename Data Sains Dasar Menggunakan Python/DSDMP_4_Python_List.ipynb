{
 "cells": [
  {
   "cell_type": "markdown",
   "id": "c3d6a337",
   "metadata": {},
   "source": [
    "![](https://github.com/jokoeliyanto/Channel-Hobi-Data/blob/main/Data%20Sains%20Dasar%20Menggunakan%20Python/gambar/list.png?raw=true)"
   ]
  },
  {
   "cell_type": "markdown",
   "id": "74c270cd",
   "metadata": {},
   "source": [
    "Dokumen yang sedang Anda baca ini bukanlah halaman yang statis. Ini merupakan media interaktif bernama **Python Notebook**. Anda bisa menulis dan mengeksekusi kode di sini. Dokumen ini dapat kamu buka baik di Jupyter maupun Googel Colaboratory. **Google Colaboratory** adalah pengolah Python Notebook dalam sistem cloud dengan dilengkapi GPU yang dikembangkan oleh Google. \n",
    "\n",
    "Dokumen terdiri dari dua jenis sell utama yaitu **Sell Kode** dan **Sell Markdown/Teks**.\n",
    "* Sell Kode adalah sell yang digunakan untuk menuliskan script python\n",
    "* Sell Teks adalah sell yang digunakan untuk menuliskan teks atau mmenginputkan media lainnya untuk keperluan deskripsi kode yang dituliskan"
   ]
  },
  {
   "cell_type": "markdown",
   "id": "f27993e4",
   "metadata": {
    "toc": true
   },
   "source": [
    "<h1>Daftar Isi<span class=\"tocSkip\"></span></h1>\n",
    "<div class=\"toc\"><ul class=\"toc-item\"><li><span><a href=\"#Struktur-Data-List?\" data-toc-modified-id=\"Struktur-Data-List?-1\"><span class=\"toc-item-num\">1&nbsp;&nbsp;</span>Struktur Data List?</a></span><ul class=\"toc-item\"><li><span><a href=\"#Ide-Dari-List\" data-toc-modified-id=\"Ide-Dari-List-1.1\"><span class=\"toc-item-num\">1.1&nbsp;&nbsp;</span>Ide Dari List</a></span></li><li><span><a href=\"#Membuat-List\" data-toc-modified-id=\"Membuat-List-1.2\"><span class=\"toc-item-num\">1.2&nbsp;&nbsp;</span>Membuat List</a></span><ul class=\"toc-item\"><li><span><a href=\"#Menggunakan-Kurung-Siku\" data-toc-modified-id=\"Menggunakan-Kurung-Siku-1.2.1\"><span class=\"toc-item-num\">1.2.1&nbsp;&nbsp;</span>Menggunakan Kurung Siku</a></span></li><li><span><a href=\"#Menggunakan-Method-list()\" data-toc-modified-id=\"Menggunakan-Method-list()-1.2.2\"><span class=\"toc-item-num\">1.2.2&nbsp;&nbsp;</span>Menggunakan Method <code>list()</code></a></span></li><li><span><a href=\"#Konferhensif-List-dengan-For\" data-toc-modified-id=\"Konferhensif-List-dengan-For-1.2.3\"><span class=\"toc-item-num\">1.2.3&nbsp;&nbsp;</span>Konferhensif List dengan For</a></span></li><li><span><a href=\"#Konferhensif-List-dengan-For-dan-If\" data-toc-modified-id=\"Konferhensif-List-dengan-For-dan-If-1.2.4\"><span class=\"toc-item-num\">1.2.4&nbsp;&nbsp;</span>Konferhensif List dengan For dan If</a></span></li></ul></li></ul></li><li><span><a href=\"#Mengkases-List\" data-toc-modified-id=\"Mengkases-List-2\"><span class=\"toc-item-num\">2&nbsp;&nbsp;</span>Mengkases List</a></span></li><li><span><a href=\"#Merubah-Element-List\" data-toc-modified-id=\"Merubah-Element-List-3\"><span class=\"toc-item-num\">3&nbsp;&nbsp;</span>Merubah Element List</a></span></li><li><span><a href=\"#Menambahkan-Element-List\" data-toc-modified-id=\"Menambahkan-Element-List-4\"><span class=\"toc-item-num\">4&nbsp;&nbsp;</span>Menambahkan Element List</a></span><ul class=\"toc-item\"><li><span><a href=\"#Method-insert()\" data-toc-modified-id=\"Method-insert()-4.1\"><span class=\"toc-item-num\">4.1&nbsp;&nbsp;</span>Method <code>insert()</code></a></span></li><li><span><a href=\"#Method-append()\" data-toc-modified-id=\"Method-append()-4.2\"><span class=\"toc-item-num\">4.2&nbsp;&nbsp;</span>Method <code>append()</code></a></span></li><li><span><a href=\"#Method-extend()\" data-toc-modified-id=\"Method-extend()-4.3\"><span class=\"toc-item-num\">4.3&nbsp;&nbsp;</span>Method <code>extend()</code></a></span></li><li><span><a href=\"#Metode-Simbol-(+)-Tambah\" data-toc-modified-id=\"Metode-Simbol-(+)-Tambah-4.4\"><span class=\"toc-item-num\">4.4&nbsp;&nbsp;</span>Metode Simbol (+) Tambah</a></span></li></ul></li><li><span><a href=\"#Menghitung-Element-List\" data-toc-modified-id=\"Menghitung-Element-List-5\"><span class=\"toc-item-num\">5&nbsp;&nbsp;</span>Menghitung Element List</a></span></li><li><span><a href=\"#Menghapus-Element-List\" data-toc-modified-id=\"Menghapus-Element-List-6\"><span class=\"toc-item-num\">6&nbsp;&nbsp;</span>Menghapus Element List</a></span><ul class=\"toc-item\"><li><span><a href=\"#Method-pop()\" data-toc-modified-id=\"Method-pop()-6.1\"><span class=\"toc-item-num\">6.1&nbsp;&nbsp;</span>Method <code>pop()</code></a></span></li><li><span><a href=\"#Method-remove()\" data-toc-modified-id=\"Method-remove()-6.2\"><span class=\"toc-item-num\">6.2&nbsp;&nbsp;</span>Method <code>remove()</code></a></span></li><li><span><a href=\"#Slicing-List\" data-toc-modified-id=\"Slicing-List-6.3\"><span class=\"toc-item-num\">6.3&nbsp;&nbsp;</span>Slicing List</a></span></li></ul></li><li><span><a href=\"#Mengurutkan-List-sort()\" data-toc-modified-id=\"Mengurutkan-List-sort()-7\"><span class=\"toc-item-num\">7&nbsp;&nbsp;</span>Mengurutkan List <code>sort()</code></a></span><ul class=\"toc-item\"><li><span><a href=\"#Mengurutkan-Accending\" data-toc-modified-id=\"Mengurutkan-Accending-7.1\"><span class=\"toc-item-num\">7.1&nbsp;&nbsp;</span>Mengurutkan Accending</a></span></li><li><span><a href=\"#Mengurutkan-Descending\" data-toc-modified-id=\"Mengurutkan-Descending-7.2\"><span class=\"toc-item-num\">7.2&nbsp;&nbsp;</span>Mengurutkan Descending</a></span></li></ul></li><li><span><a href=\"#Copy-List\" data-toc-modified-id=\"Copy-List-8\"><span class=\"toc-item-num\">8&nbsp;&nbsp;</span>Copy List</a></span><ul class=\"toc-item\"><li><span><a href=\"#Method-copy()\" data-toc-modified-id=\"Method-copy()-8.1\"><span class=\"toc-item-num\">8.1&nbsp;&nbsp;</span>Method <code>copy()</code></a></span></li></ul></li><li><span><a href=\"#Nested-List\" data-toc-modified-id=\"Nested-List-9\"><span class=\"toc-item-num\">9&nbsp;&nbsp;</span>Nested List</a></span></li><li><span><a href=\"#Penerapan-List-pada-For\" data-toc-modified-id=\"Penerapan-List-pada-For-10\"><span class=\"toc-item-num\">10&nbsp;&nbsp;</span>Penerapan List pada For</a></span></li></ul></div>"
   ]
  },
  {
   "cell_type": "markdown",
   "id": "c295c1ed",
   "metadata": {},
   "source": [
    "# Struktur Data List?"
   ]
  },
  {
   "cell_type": "markdown",
   "id": "26ae6858",
   "metadata": {},
   "source": [
    "Dalam bahasa pemrograman Python, struktur data yang paling dasar adalah urutan atau list. Setiap elemen-elemen berurutan akan diberi nomor posisi atau indeksnya. Indeks pertama dalam list adalah nol, indeks kedua adalah satu dan seterusnya. Ada beberapa hal yang dapat Anda lakukan dengan semua jenis list. Operasi ini meliputi pengindeksan, pengiris, penambahan, perbanyak, dan pengecekan keanggotaan. Selain itu, Python memiliki fungsi built-in untuk menemukan panjang list dan untuk menemukan elemen terbesar dan terkecilnya. List adalah tipe data yang paling serbaguna yang tersedia dalam bahasa Python, yang dapat ditulis sebagai daftar nilai yang dipisahkan koma (item) antara tanda kurung siku."
   ]
  },
  {
   "cell_type": "markdown",
   "id": "0b2d8202",
   "metadata": {},
   "source": [
    "## Ide Dari List"
   ]
  },
  {
   "cell_type": "markdown",
   "id": "e2862c6e",
   "metadata": {},
   "source": [
    "Awalnya kita memiliki beberapa variabel yang menyimpan sebuah value. Sebagai contoh kita memiliki tiga variabel yaitu `item1`,`item2`, dan `item3`. Nilai tersebut disajikan sebagai berikut."
   ]
  },
  {
   "cell_type": "code",
   "execution_count": 45,
   "id": "dd22975f",
   "metadata": {
    "ExecuteTime": {
     "end_time": "2022-08-19T12:38:04.822199Z",
     "start_time": "2022-08-19T12:38:04.815218Z"
    }
   },
   "outputs": [],
   "source": [
    "item1=1\n",
    "item2=2\n",
    "item3=3"
   ]
  },
  {
   "cell_type": "markdown",
   "id": "13ffb060",
   "metadata": {},
   "source": [
    "Terdapat permasalahan jika tiga variabel tersebut dijadikan satu variabel. Langkah yang dapat dilakukan yaitu menggunakan tipe data list sehingga diperoleh seperti berikut."
   ]
  },
  {
   "cell_type": "code",
   "execution_count": 46,
   "id": "33749750",
   "metadata": {
    "ExecuteTime": {
     "end_time": "2022-08-19T12:38:25.001611Z",
     "start_time": "2022-08-19T12:38:24.987649Z"
    }
   },
   "outputs": [
    {
     "data": {
      "text/plain": [
       "[1, 2, 3]"
      ]
     },
     "execution_count": 46,
     "metadata": {},
     "output_type": "execute_result"
    }
   ],
   "source": [
    "item=[item1,item2,item3]\n",
    "item"
   ]
  },
  {
   "cell_type": "markdown",
   "id": "c4bb8446",
   "metadata": {},
   "source": [
    "List dapat disi dengan beberapa value diantaranya value **integer**, **float**, **boolean**, **string**, maupun **list** itu sendiri. Dibawah ini adalah contoh sederhana pembuatan list dalam bahasa Python."
   ]
  },
  {
   "cell_type": "code",
   "execution_count": 47,
   "id": "97fdcb14",
   "metadata": {
    "ExecuteTime": {
     "end_time": "2022-08-19T13:09:01.506025Z",
     "start_time": "2022-08-19T13:09:01.494056Z"
    }
   },
   "outputs": [
    {
     "name": "stdout",
     "output_type": "stream",
     "text": [
      "Ini list1:[1, 2, 3, 4, 5]\n",
      "Ini list2:['a', 'b', 'c', 'd']\n",
      "Ini list3:['kimia', 'fisika', 1993, 2017, True, 2.43, [2, 3]]\n"
     ]
    }
   ],
   "source": [
    "list1 = [1, 2, 3, 4, 5 ]\n",
    "list2 = [\"a\", \"b\", \"c\", \"d\"]\n",
    "list3 = ['kimia', 'fisika', 1993, 2017,True,2.43,[2,3]]\n",
    "\n",
    "print(f\"Ini list1:{list1}\")\n",
    "print(f\"Ini list2:{list2}\")\n",
    "print(f\"Ini list3:{list3}\")"
   ]
  },
  {
   "cell_type": "markdown",
   "id": "0d16491d",
   "metadata": {},
   "source": [
    "## Membuat List"
   ]
  },
  {
   "cell_type": "markdown",
   "id": "0c2e8b50",
   "metadata": {},
   "source": [
    "### Menggunakan Kurung Siku"
   ]
  },
  {
   "cell_type": "code",
   "execution_count": 5,
   "id": "2bfd39d0",
   "metadata": {
    "ExecuteTime": {
     "end_time": "2022-08-19T11:31:58.413214Z",
     "start_time": "2022-08-19T11:31:58.392272Z"
    }
   },
   "outputs": [
    {
     "data": {
      "text/plain": [
       "[1, 2, 3, 4, 5, 6, 7, 8, 9, 10]"
      ]
     },
     "execution_count": 5,
     "metadata": {},
     "output_type": "execute_result"
    }
   ],
   "source": [
    "buat_list=[1,2,3,4,5,6,7,8,9,10]\n",
    "buat_list"
   ]
  },
  {
   "cell_type": "markdown",
   "id": "85a1d76c",
   "metadata": {},
   "source": [
    "### Menggunakan Method `list()`"
   ]
  },
  {
   "cell_type": "code",
   "execution_count": 4,
   "id": "ce93bd46",
   "metadata": {
    "ExecuteTime": {
     "end_time": "2022-08-19T11:31:30.238086Z",
     "start_time": "2022-08-19T11:31:30.216153Z"
    }
   },
   "outputs": [
    {
     "data": {
      "text/plain": [
       "[1, 2, 3, 4, 5, 6, 7, 8, 9, 10]"
      ]
     },
     "execution_count": 4,
     "metadata": {},
     "output_type": "execute_result"
    }
   ],
   "source": [
    "buat_list=list(range(1,11))\n",
    "buat_list"
   ]
  },
  {
   "cell_type": "markdown",
   "id": "cb87268b",
   "metadata": {},
   "source": [
    "### Konferhensif List dengan For"
   ]
  },
  {
   "cell_type": "code",
   "execution_count": null,
   "id": "e4a7ae95",
   "metadata": {},
   "outputs": [],
   "source": [
    "list_for=[i for i in range(0,10)]"
   ]
  },
  {
   "cell_type": "markdown",
   "id": "bb5288f2",
   "metadata": {},
   "source": [
    "### Konferhensif List dengan For dan If"
   ]
  },
  {
   "cell_type": "code",
   "execution_count": null,
   "id": "1cec0a6a",
   "metadata": {},
   "outputs": [],
   "source": [
    "list_for_if = [i for i in range(0,10) if i%2==0]"
   ]
  },
  {
   "cell_type": "markdown",
   "id": "49e63c73",
   "metadata": {},
   "source": [
    "# Mengkases List\n",
    "\n",
    "\n",
    "|Element list1|1|2|3|4|\n",
    "|--:|:-:|:-:|:-:|:-:|\n",
    "|Indeks Maju|0|1|2|3|\n",
    "|Indeks Mundur|-4|-3|-2|-1|\n",
    "\n",
    "\n",
    "List merupakan tipe data yang memiliki pengindeksan setiap elementnya. Melakukan pengaksesan elemen yang terdapat dalam list dapat menggunakan sintak berikut."
   ]
  },
  {
   "cell_type": "code",
   "execution_count": 4,
   "id": "7f097745",
   "metadata": {
    "ExecuteTime": {
     "end_time": "2022-08-16T23:09:29.035293Z",
     "start_time": "2022-08-16T23:09:29.007335Z"
    }
   },
   "outputs": [
    {
     "data": {
      "text/plain": [
       "1"
      ]
     },
     "execution_count": 4,
     "metadata": {},
     "output_type": "execute_result"
    }
   ],
   "source": [
    "list1[0]"
   ]
  },
  {
   "cell_type": "markdown",
   "id": "675b7d75",
   "metadata": {},
   "source": [
    "Cell di atas merupakan untuk mengkases list satu elemen. Untuk mengakses lebih dari satu elemen dapat menggunakan sintaks `[awal:akhir:inkrement=1]` sehingga jika ingin mengkases list elemen ke dua sampai ke empat ditulis seperti `1:3`. Jika di implementasikan pada sintaks untuk mengakses`list1` maka akan seperti berikut. "
   ]
  },
  {
   "cell_type": "code",
   "execution_count": null,
   "id": "359a9aa1",
   "metadata": {},
   "outputs": [],
   "source": [
    "list1[-2]"
   ]
  },
  {
   "cell_type": "code",
   "execution_count": 5,
   "id": "f718b201",
   "metadata": {
    "ExecuteTime": {
     "end_time": "2022-08-16T23:15:09.475693Z",
     "start_time": "2022-08-16T23:15:09.463695Z"
    },
    "scrolled": true
   },
   "outputs": [
    {
     "data": {
      "text/plain": [
       "[2, 3]"
      ]
     },
     "execution_count": 5,
     "metadata": {},
     "output_type": "execute_result"
    }
   ],
   "source": [
    "list1[1:3]"
   ]
  },
  {
   "cell_type": "code",
   "execution_count": 12,
   "id": "6bedeb02",
   "metadata": {
    "ExecuteTime": {
     "end_time": "2022-08-17T05:46:13.805473Z",
     "start_time": "2022-08-17T05:46:13.789517Z"
    }
   },
   "outputs": [
    {
     "data": {
      "text/plain": [
       "[3, 4, 5]"
      ]
     },
     "execution_count": 12,
     "metadata": {},
     "output_type": "execute_result"
    }
   ],
   "source": [
    "list1[2:]"
   ]
  },
  {
   "cell_type": "code",
   "execution_count": 17,
   "id": "91ac140e",
   "metadata": {
    "ExecuteTime": {
     "end_time": "2022-08-17T07:58:25.678543Z",
     "start_time": "2022-08-17T07:58:25.660593Z"
    }
   },
   "outputs": [
    {
     "data": {
      "text/plain": [
       "[10, 2, 3]"
      ]
     },
     "execution_count": 17,
     "metadata": {},
     "output_type": "execute_result"
    }
   ],
   "source": [
    "list1[:3]"
   ]
  },
  {
   "cell_type": "code",
   "execution_count": 19,
   "id": "6f5a0c62",
   "metadata": {
    "ExecuteTime": {
     "end_time": "2022-08-17T07:58:57.997042Z",
     "start_time": "2022-08-17T07:58:57.977095Z"
    }
   },
   "outputs": [
    {
     "data": {
      "text/plain": [
       "[10, 3, 5]"
      ]
     },
     "execution_count": 19,
     "metadata": {},
     "output_type": "execute_result"
    }
   ],
   "source": [
    "list1[0:5:2]"
   ]
  },
  {
   "cell_type": "markdown",
   "id": "7171a231",
   "metadata": {},
   "source": [
    "# Merubah Element List"
   ]
  },
  {
   "cell_type": "code",
   "execution_count": 7,
   "id": "e2efe30a",
   "metadata": {
    "ExecuteTime": {
     "end_time": "2022-08-17T05:44:44.881757Z",
     "start_time": "2022-08-17T05:44:44.863842Z"
    }
   },
   "outputs": [
    {
     "name": "stdout",
     "output_type": "stream",
     "text": [
      "[1, 2, 3, 4, 5]\n"
     ]
    }
   ],
   "source": [
    "print(list1)"
   ]
  },
  {
   "cell_type": "code",
   "execution_count": 8,
   "id": "02f79189",
   "metadata": {
    "ExecuteTime": {
     "end_time": "2022-08-17T05:45:16.383176Z",
     "start_time": "2022-08-17T05:45:16.365042Z"
    }
   },
   "outputs": [],
   "source": [
    "list1[0]=10"
   ]
  },
  {
   "cell_type": "code",
   "execution_count": 9,
   "id": "3a56691e",
   "metadata": {
    "ExecuteTime": {
     "end_time": "2022-08-17T05:45:17.654121Z",
     "start_time": "2022-08-17T05:45:17.633176Z"
    }
   },
   "outputs": [
    {
     "name": "stdout",
     "output_type": "stream",
     "text": [
      "[10, 2, 3, 4, 5]\n"
     ]
    }
   ],
   "source": [
    "print(list1)"
   ]
  },
  {
   "cell_type": "code",
   "execution_count": null,
   "id": "76114f5f",
   "metadata": {},
   "outputs": [],
   "source": [
    "list1[0:2]=33"
   ]
  },
  {
   "cell_type": "markdown",
   "id": "0a8c8053",
   "metadata": {},
   "source": [
    "# Menambahkan Element List"
   ]
  },
  {
   "cell_type": "code",
   "execution_count": 39,
   "id": "077e3184",
   "metadata": {
    "ExecuteTime": {
     "end_time": "2022-08-19T12:01:34.222135Z",
     "start_time": "2022-08-19T12:01:34.209204Z"
    }
   },
   "outputs": [],
   "source": [
    "list_1=[9,2,3,1]"
   ]
  },
  {
   "cell_type": "markdown",
   "id": "0f91a504",
   "metadata": {},
   "source": [
    "## Method `insert()`"
   ]
  },
  {
   "cell_type": "markdown",
   "id": "04ff166e",
   "metadata": {},
   "source": [
    "insert(index,object)"
   ]
  },
  {
   "cell_type": "code",
   "execution_count": 25,
   "id": "bb5d2054",
   "metadata": {
    "ExecuteTime": {
     "end_time": "2022-08-19T11:45:07.162329Z",
     "start_time": "2022-08-19T11:45:07.145412Z"
    }
   },
   "outputs": [
    {
     "data": {
      "text/plain": [
       "[9, 2, 3, 3, 1, 2, 3, 4]"
      ]
     },
     "execution_count": 25,
     "metadata": {},
     "output_type": "execute_result"
    }
   ],
   "source": [
    "list_1.insert(2,3)\n",
    "list_1"
   ]
  },
  {
   "cell_type": "markdown",
   "id": "c258eaa8",
   "metadata": {},
   "source": [
    "## Method `append()`"
   ]
  },
  {
   "cell_type": "code",
   "execution_count": 9,
   "id": "111575fe",
   "metadata": {
    "ExecuteTime": {
     "end_time": "2022-08-19T11:36:44.072134Z",
     "start_time": "2022-08-19T11:36:44.053180Z"
    }
   },
   "outputs": [
    {
     "data": {
      "text/plain": [
       "[9, 2, 3, 3, 3, 1, 3]"
      ]
     },
     "execution_count": 9,
     "metadata": {},
     "output_type": "execute_result"
    }
   ],
   "source": [
    "list_1.append(3)\n",
    "list_1"
   ]
  },
  {
   "cell_type": "markdown",
   "id": "d00f405b",
   "metadata": {},
   "source": [
    "## Method `extend()`"
   ]
  },
  {
   "cell_type": "markdown",
   "id": "a378b4b0",
   "metadata": {},
   "source": [
    "list_baru=[2,3,4]\n",
    "\n",
    "extend(list_baru)"
   ]
  },
  {
   "cell_type": "code",
   "execution_count": 15,
   "id": "003efd1b",
   "metadata": {
    "ExecuteTime": {
     "end_time": "2022-08-19T11:40:10.988760Z",
     "start_time": "2022-08-19T11:40:10.984769Z"
    }
   },
   "outputs": [],
   "source": [
    "list_baru=[2,3,4]"
   ]
  },
  {
   "cell_type": "code",
   "execution_count": 18,
   "id": "a2f7c3a6",
   "metadata": {
    "ExecuteTime": {
     "end_time": "2022-08-19T11:40:29.379618Z",
     "start_time": "2022-08-19T11:40:29.356678Z"
    }
   },
   "outputs": [
    {
     "data": {
      "text/plain": [
       "[9, 2, 3, 1, 2, 3, 4]"
      ]
     },
     "execution_count": 18,
     "metadata": {},
     "output_type": "execute_result"
    }
   ],
   "source": [
    "list_1.extend(list_baru)\n",
    "list_1"
   ]
  },
  {
   "cell_type": "markdown",
   "id": "1b64fb3c",
   "metadata": {},
   "source": [
    "## Metode Simbol (+) Tambah"
   ]
  },
  {
   "cell_type": "code",
   "execution_count": 13,
   "id": "21f6457f",
   "metadata": {
    "ExecuteTime": {
     "end_time": "2022-08-17T05:49:48.271293Z",
     "start_time": "2022-08-17T05:49:48.252344Z"
    }
   },
   "outputs": [],
   "source": [
    "list_baru=[3,3,1,2]"
   ]
  },
  {
   "cell_type": "code",
   "execution_count": 15,
   "id": "0c928292",
   "metadata": {
    "ExecuteTime": {
     "end_time": "2022-08-17T05:50:36.970775Z",
     "start_time": "2022-08-17T05:50:36.947837Z"
    }
   },
   "outputs": [
    {
     "data": {
      "text/plain": [
       "[10, 2, 3, 4, 5, 3, 3, 1, 2]"
      ]
     },
     "execution_count": 15,
     "metadata": {},
     "output_type": "execute_result"
    }
   ],
   "source": [
    "list1=list1+list_baru\n",
    "list1"
   ]
  },
  {
   "cell_type": "markdown",
   "id": "b3b29031",
   "metadata": {},
   "source": [
    "# Menghitung Element List"
   ]
  },
  {
   "cell_type": "code",
   "execution_count": 22,
   "id": "e8828d9e",
   "metadata": {
    "ExecuteTime": {
     "end_time": "2022-08-19T11:42:06.484467Z",
     "start_time": "2022-08-19T11:42:06.469470Z"
    }
   },
   "outputs": [
    {
     "data": {
      "text/plain": [
       "[9, 2, 3, 1, 2, 3, 4]"
      ]
     },
     "execution_count": 22,
     "metadata": {},
     "output_type": "execute_result"
    }
   ],
   "source": [
    "list_1"
   ]
  },
  {
   "cell_type": "code",
   "execution_count": 21,
   "id": "1b69d4cb",
   "metadata": {
    "ExecuteTime": {
     "end_time": "2022-08-19T11:41:08.717315Z",
     "start_time": "2022-08-19T11:41:08.679214Z"
    }
   },
   "outputs": [
    {
     "name": "stdout",
     "output_type": "stream",
     "text": [
      "2\n"
     ]
    }
   ],
   "source": [
    "jumlah_list1=list_1.count(2)\n",
    "print(jumlah_list1)"
   ]
  },
  {
   "cell_type": "markdown",
   "id": "28d71133",
   "metadata": {},
   "source": [
    "# Menghapus Element List"
   ]
  },
  {
   "cell_type": "markdown",
   "id": "22482323",
   "metadata": {},
   "source": [
    "## Method `pop()`"
   ]
  },
  {
   "cell_type": "code",
   "execution_count": 27,
   "id": "1cf87dfb",
   "metadata": {
    "ExecuteTime": {
     "end_time": "2022-08-19T11:51:20.922516Z",
     "start_time": "2022-08-19T11:51:20.910546Z"
    }
   },
   "outputs": [
    {
     "data": {
      "text/plain": [
       "[9, 2, 3, 3, 1, 2, 3]"
      ]
     },
     "execution_count": 27,
     "metadata": {},
     "output_type": "execute_result"
    }
   ],
   "source": [
    "list_1"
   ]
  },
  {
   "cell_type": "code",
   "execution_count": 28,
   "id": "597c18e4",
   "metadata": {
    "ExecuteTime": {
     "end_time": "2022-08-19T11:51:27.597011Z",
     "start_time": "2022-08-19T11:51:27.588037Z"
    }
   },
   "outputs": [
    {
     "data": {
      "text/plain": [
       "3"
      ]
     },
     "execution_count": 28,
     "metadata": {},
     "output_type": "execute_result"
    }
   ],
   "source": [
    "elemen_pop=list_1.pop()\n",
    "elemen_pop"
   ]
  },
  {
   "cell_type": "code",
   "execution_count": 29,
   "id": "2902cb3f",
   "metadata": {
    "ExecuteTime": {
     "end_time": "2022-08-19T11:51:53.322782Z",
     "start_time": "2022-08-19T11:51:53.306828Z"
    }
   },
   "outputs": [
    {
     "data": {
      "text/plain": [
       "[9, 2, 3, 3, 1, 2]"
      ]
     },
     "execution_count": 29,
     "metadata": {},
     "output_type": "execute_result"
    }
   ],
   "source": [
    "list_1"
   ]
  },
  {
   "cell_type": "markdown",
   "id": "10054194",
   "metadata": {},
   "source": [
    "## Method `remove()`"
   ]
  },
  {
   "cell_type": "code",
   "execution_count": 30,
   "id": "92bc4991",
   "metadata": {
    "ExecuteTime": {
     "end_time": "2022-08-19T11:55:14.081894Z",
     "start_time": "2022-08-19T11:55:14.071922Z"
    }
   },
   "outputs": [
    {
     "data": {
      "text/plain": [
       "[9, 2, 3, 3, 1, 2]"
      ]
     },
     "execution_count": 30,
     "metadata": {},
     "output_type": "execute_result"
    }
   ],
   "source": [
    "list_1"
   ]
  },
  {
   "cell_type": "code",
   "execution_count": 31,
   "id": "27801597",
   "metadata": {
    "ExecuteTime": {
     "end_time": "2022-08-19T11:57:05.146292Z",
     "start_time": "2022-08-19T11:57:05.126345Z"
    }
   },
   "outputs": [],
   "source": [
    "list_1.remove(1)"
   ]
  },
  {
   "cell_type": "code",
   "execution_count": 32,
   "id": "7a972acb",
   "metadata": {
    "ExecuteTime": {
     "end_time": "2022-08-19T11:57:14.373039Z",
     "start_time": "2022-08-19T11:57:14.362070Z"
    }
   },
   "outputs": [
    {
     "data": {
      "text/plain": [
       "[9, 2, 3, 3, 2]"
      ]
     },
     "execution_count": 32,
     "metadata": {},
     "output_type": "execute_result"
    }
   ],
   "source": [
    "list_1"
   ]
  },
  {
   "cell_type": "markdown",
   "id": "e3d91a8a",
   "metadata": {},
   "source": [
    "## Slicing List"
   ]
  },
  {
   "cell_type": "code",
   "execution_count": 35,
   "id": "8b4f882b",
   "metadata": {
    "ExecuteTime": {
     "end_time": "2022-08-19T12:00:08.065069Z",
     "start_time": "2022-08-19T12:00:08.042129Z"
    }
   },
   "outputs": [
    {
     "data": {
      "text/plain": [
       "[9, 2, 3]"
      ]
     },
     "execution_count": 35,
     "metadata": {},
     "output_type": "execute_result"
    }
   ],
   "source": [
    "slice_list=list_1[:3]\n",
    "slice_list"
   ]
  },
  {
   "cell_type": "markdown",
   "id": "b010bcd1",
   "metadata": {},
   "source": [
    "# Mengurutkan List `sort()`"
   ]
  },
  {
   "cell_type": "markdown",
   "id": "64531e68",
   "metadata": {},
   "source": [
    "## Mengurutkan Accending"
   ]
  },
  {
   "cell_type": "code",
   "execution_count": 36,
   "id": "493015b1",
   "metadata": {
    "ExecuteTime": {
     "end_time": "2022-08-19T12:00:29.221363Z",
     "start_time": "2022-08-19T12:00:29.201384Z"
    }
   },
   "outputs": [
    {
     "data": {
      "text/plain": [
       "[9, 2, 3, 3, 2]"
      ]
     },
     "execution_count": 36,
     "metadata": {},
     "output_type": "execute_result"
    }
   ],
   "source": [
    "list_1"
   ]
  },
  {
   "cell_type": "code",
   "execution_count": 37,
   "id": "ac4460b8",
   "metadata": {
    "ExecuteTime": {
     "end_time": "2022-08-19T12:00:40.383120Z",
     "start_time": "2022-08-19T12:00:40.373147Z"
    }
   },
   "outputs": [],
   "source": [
    "list_1.sort()"
   ]
  },
  {
   "cell_type": "code",
   "execution_count": 38,
   "id": "3b19a8ab",
   "metadata": {
    "ExecuteTime": {
     "end_time": "2022-08-19T12:00:47.209901Z",
     "start_time": "2022-08-19T12:00:47.198929Z"
    },
    "scrolled": true
   },
   "outputs": [
    {
     "data": {
      "text/plain": [
       "[2, 2, 3, 3, 9]"
      ]
     },
     "execution_count": 38,
     "metadata": {},
     "output_type": "execute_result"
    }
   ],
   "source": [
    "list_1"
   ]
  },
  {
   "cell_type": "markdown",
   "id": "1d3d74b6",
   "metadata": {},
   "source": [
    "## Mengurutkan Descending"
   ]
  },
  {
   "cell_type": "code",
   "execution_count": 40,
   "id": "f2c26091",
   "metadata": {
    "ExecuteTime": {
     "end_time": "2022-08-19T12:01:53.108082Z",
     "start_time": "2022-08-19T12:01:53.097111Z"
    }
   },
   "outputs": [
    {
     "data": {
      "text/plain": [
       "[9, 2, 3, 1]"
      ]
     },
     "execution_count": 40,
     "metadata": {},
     "output_type": "execute_result"
    }
   ],
   "source": [
    "list_1"
   ]
  },
  {
   "cell_type": "code",
   "execution_count": 41,
   "id": "a3d46f87",
   "metadata": {
    "ExecuteTime": {
     "end_time": "2022-08-19T12:02:13.433535Z",
     "start_time": "2022-08-19T12:02:13.422559Z"
    }
   },
   "outputs": [],
   "source": [
    "list_1.sort(reverse=True)"
   ]
  },
  {
   "cell_type": "code",
   "execution_count": 42,
   "id": "9d02c272",
   "metadata": {
    "ExecuteTime": {
     "end_time": "2022-08-19T12:02:19.657552Z",
     "start_time": "2022-08-19T12:02:19.644591Z"
    }
   },
   "outputs": [
    {
     "data": {
      "text/plain": [
       "[9, 3, 2, 1]"
      ]
     },
     "execution_count": 42,
     "metadata": {},
     "output_type": "execute_result"
    }
   ],
   "source": [
    "list_1"
   ]
  },
  {
   "cell_type": "markdown",
   "id": "cbd356e0",
   "metadata": {
    "ExecuteTime": {
     "end_time": "2022-08-17T07:19:04.466180Z",
     "start_time": "2022-08-17T07:19:04.450227Z"
    }
   },
   "source": [
    "**Important Step**\n",
    "\n",
    "\n",
    "* Langkah yang tidak boleh dilakukan \n",
    "\n",
    "```python\n",
    "list=[11,2,3,4,2,1,5,3]\n",
    "var_bar=list.sort()\n",
    "\n",
    "type(var_bar)\n",
    "\n",
    "```\n",
    "\n",
    "* Langkah yang tepat untuk memasukan ke variabel baru\n",
    "\n",
    "```python\n",
    "list=[11,2,3,4,2,1,5,3]\n",
    "list.sort()\n",
    "var_bar=list\n",
    "\n",
    "type(var_bar)\n",
    "```"
   ]
  },
  {
   "cell_type": "markdown",
   "id": "12d35d99",
   "metadata": {},
   "source": [
    "# Copy List "
   ]
  },
  {
   "cell_type": "markdown",
   "id": "e909aaa9",
   "metadata": {},
   "source": [
    "**Hal yang tidak boleh dilakukan**\n",
    "```python\n",
    "a=[1,2,3]\n",
    "\n",
    "b=a\n",
    "\n",
    "a[1]=10\n",
    "\n",
    "print(a)\n",
    "print(b)\n",
    "```"
   ]
  },
  {
   "cell_type": "markdown",
   "id": "649014d8",
   "metadata": {},
   "source": [
    "## Method `copy()`"
   ]
  },
  {
   "cell_type": "code",
   "execution_count": 43,
   "id": "d9d8b94e",
   "metadata": {
    "ExecuteTime": {
     "end_time": "2022-08-19T12:03:06.330861Z",
     "start_time": "2022-08-19T12:03:06.320888Z"
    }
   },
   "outputs": [
    {
     "data": {
      "text/plain": [
       "[9, 3, 2, 1]"
      ]
     },
     "execution_count": 43,
     "metadata": {},
     "output_type": "execute_result"
    }
   ],
   "source": [
    "copy_list1=list_1.copy()\n",
    "copy_list1"
   ]
  },
  {
   "cell_type": "markdown",
   "id": "ec9ee9b3",
   "metadata": {},
   "source": [
    "# Nested List"
   ]
  },
  {
   "cell_type": "code",
   "execution_count": null,
   "id": "1479ce3c",
   "metadata": {},
   "outputs": [],
   "source": [
    "nes_list=[[1,2,3],[3,2,1]]"
   ]
  },
  {
   "cell_type": "markdown",
   "id": "f562ab50",
   "metadata": {},
   "source": [
    "# Penerapan List pada For"
   ]
  }
 ],
 "metadata": {
  "kernelspec": {
   "display_name": "Python 3",
   "language": "python",
   "name": "python3"
  },
  "language_info": {
   "codemirror_mode": {
    "name": "ipython",
    "version": 3
   },
   "file_extension": ".py",
   "mimetype": "text/x-python",
   "name": "python",
   "nbconvert_exporter": "python",
   "pygments_lexer": "ipython3",
   "version": "3.8.8"
  },
  "toc": {
   "base_numbering": 1,
   "nav_menu": {},
   "number_sections": true,
   "sideBar": true,
   "skip_h1_title": false,
   "title_cell": "Daftar Isi",
   "title_sidebar": "Contents",
   "toc_cell": true,
   "toc_position": {
    "height": "calc(100% - 180px)",
    "left": "10px",
    "top": "150px",
    "width": "273.188px"
   },
   "toc_section_display": true,
   "toc_window_display": false
  }
 },
 "nbformat": 4,
 "nbformat_minor": 5
}
