{
 "cells": [
  {
   "cell_type": "markdown",
   "id": "c3d6a337",
   "metadata": {},
   "source": [
    "![](https://github.com/jokoeliyanto/Channel-Hobi-Data/blob/main/Data%20Sains%20Dasar%20Menggunakan%20Python/gambar/list.png?raw=true)"
   ]
  },
  {
   "cell_type": "markdown",
   "id": "74c270cd",
   "metadata": {},
   "source": [
    "Dokumen yang sedang Anda baca ini bukanlah halaman yang statis. Ini merupakan media interaktif bernama **Python Notebook**. Anda bisa menulis dan mengeksekusi kode di sini. Dokumen ini dapat kamu buka baik di Jupyter maupun Googel Colaboratory. **Google Colaboratory** adalah pengolah Python Notebook dalam sistem cloud dengan dilengkapi GPU yang dikembangkan oleh Google. \n",
    "\n",
    "Dokumen terdiri dari dua jenis sell utama yaitu **Sell Kode** dan **Sell Markdown/Teks**.\n",
    "* Sell Kode adalah sell yang digunakan untuk menuliskan script python\n",
    "* Sell Teks adalah sell yang digunakan untuk menuliskan teks atau mmenginputkan media lainnya untuk keperluan deskripsi kode yang dituliskan"
   ]
  },
  {
   "cell_type": "markdown",
   "id": "c295c1ed",
   "metadata": {},
   "source": [
    "# Definisi List"
   ]
  },
  {
   "cell_type": "markdown",
   "id": "c4bb8446",
   "metadata": {},
   "source": [
    "Dalam bahasa pemrograman Python, struktur data yang paling dasar adalah urutan atau list. Setiap elemen-elemen berurutan akan diberi nomor posisi atau indeksnya. Indeks pertama dalam list adalah nol, indeks kedua adalah satu dan seterusnya. Ada beberapa hal yang dapat Anda lakukan dengan semua jenis list. Operasi ini meliputi pengindeksan, pengiris, penambahan, perbanyak, dan pengecekan keanggotaan. Selain itu, Python memiliki fungsi built-in untuk menemukan panjang list dan untuk menemukan elemen terbesar dan terkecilnya. List adalah tipe data yang paling serbaguna yang tersedia dalam bahasa Python, yang dapat ditulis sebagai daftar nilai yang dipisahkan koma (item) antara tanda kurung siku. Dibawah ini adalah contoh sederhana pembuatan list dalam bahasa Python."
   ]
  },
  {
   "cell_type": "code",
   "execution_count": null,
   "id": "97fdcb14",
   "metadata": {},
   "outputs": [],
   "source": [
    "list1 = [1, 2, 3, 4, 5 ]\n",
    "list2 = [\"a\", \"b\", \"c\", \"d\"]\n",
    "list3 = ['kimia', 'fisika', 1993, 2017]"
   ]
  }
 ],
 "metadata": {
  "kernelspec": {
   "display_name": "Python 3",
   "language": "python",
   "name": "python3"
  },
  "language_info": {
   "codemirror_mode": {
    "name": "ipython",
    "version": 3
   },
   "file_extension": ".py",
   "mimetype": "text/x-python",
   "name": "python",
   "nbconvert_exporter": "python",
   "pygments_lexer": "ipython3",
   "version": "3.8.8"
  },
  "toc": {
   "base_numbering": 1,
   "nav_menu": {},
   "number_sections": true,
   "sideBar": true,
   "skip_h1_title": false,
   "title_cell": "Table of Contents",
   "title_sidebar": "Contents",
   "toc_cell": false,
   "toc_position": {},
   "toc_section_display": true,
   "toc_window_display": false
  }
 },
 "nbformat": 4,
 "nbformat_minor": 5
}
