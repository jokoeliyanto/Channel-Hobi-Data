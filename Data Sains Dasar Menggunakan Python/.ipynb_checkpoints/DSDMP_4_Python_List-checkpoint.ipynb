{
 "cells": [
  {
   "cell_type": "markdown",
   "id": "c3d6a337",
   "metadata": {},
   "source": [
    "![](https://github.com/jokoeliyanto/Channel-Hobi-Data/blob/main/Data%20Sains%20Dasar%20Menggunakan%20Python/gambar/list.png?raw=true)"
   ]
  },
  {
   "cell_type": "markdown",
   "id": "74c270cd",
   "metadata": {},
   "source": [
    "Dokumen yang sedang Anda baca ini bukanlah halaman yang statis. Ini merupakan media interaktif bernama **Python Notebook**. Anda bisa menulis dan mengeksekusi kode di sini. Dokumen ini dapat kamu buka baik di Jupyter maupun Googel Colaboratory. **Google Colaboratory** adalah pengolah Python Notebook dalam sistem cloud dengan dilengkapi GPU yang dikembangkan oleh Google. \n",
    "\n",
    "Dokumen terdiri dari dua jenis sell utama yaitu **Sell Kode** dan **Sell Markdown/Teks**.\n",
    "* Sell Kode adalah sell yang digunakan untuk menuliskan script python\n",
    "* Sell Teks adalah sell yang digunakan untuk menuliskan teks atau mmenginputkan media lainnya untuk keperluan deskripsi kode yang dituliskan"
   ]
  },
  {
   "cell_type": "markdown",
   "id": "c295c1ed",
   "metadata": {},
   "source": [
    "# Apa Itu List?"
   ]
  },
  {
   "cell_type": "markdown",
   "id": "1fabc0d8",
   "metadata": {},
   "source": [
    "## Ide Dari List"
   ]
  },
  {
   "cell_type": "code",
   "execution_count": null,
   "id": "5128a208",
   "metadata": {},
   "outputs": [],
   "source": [
    "item1=1\n",
    "item2=2\n",
    "item3=3"
   ]
  },
  {
   "cell_type": "code",
   "execution_count": null,
   "id": "f8bbfc06",
   "metadata": {},
   "outputs": [],
   "source": [
    "item=[1,2,3]"
   ]
  },
  {
   "cell_type": "markdown",
   "id": "c4bb8446",
   "metadata": {},
   "source": [
    "Dalam bahasa pemrograman Python, struktur data yang paling dasar adalah urutan atau list. Setiap elemen-elemen berurutan akan diberi nomor posisi atau indeksnya. Indeks pertama dalam list adalah nol, indeks kedua adalah satu dan seterusnya. Ada beberapa hal yang dapat Anda lakukan dengan semua jenis list. Operasi ini meliputi pengindeksan, pengiris, penambahan, perbanyak, dan pengecekan keanggotaan. Selain itu, Python memiliki fungsi built-in untuk menemukan panjang list dan untuk menemukan elemen terbesar dan terkecilnya. List adalah tipe data yang paling serbaguna yang tersedia dalam bahasa Python, yang dapat ditulis sebagai daftar nilai yang dipisahkan koma (item) antara tanda kurung siku. Dibawah ini adalah contoh sederhana pembuatan list dalam bahasa Python."
   ]
  },
  {
   "cell_type": "code",
   "execution_count": 20,
   "id": "97fdcb14",
   "metadata": {
    "ExecuteTime": {
     "end_time": "2022-08-17T07:59:56.974272Z",
     "start_time": "2022-08-17T07:59:56.964297Z"
    }
   },
   "outputs": [],
   "source": [
    "list1 = [1, 2, 3, 4, 5 ]\n",
    "list2 = [\"a\", \"b\", \"c\", \"d\"]\n",
    "list3 = ['kimia', 'fisika', 1993, 2017,True,2.43,[2,3]]"
   ]
  },
  {
   "cell_type": "markdown",
   "id": "67f4e87f",
   "metadata": {},
   "source": [
    "## Membuat List"
   ]
  },
  {
   "cell_type": "markdown",
   "id": "82043055",
   "metadata": {},
   "source": [
    "### Menggunakan Kurung Siku"
   ]
  },
  {
   "cell_type": "markdown",
   "id": "e18f5328",
   "metadata": {},
   "source": [
    "### Menggunakan Method `list()`"
   ]
  },
  {
   "cell_type": "markdown",
   "id": "c40a5e76",
   "metadata": {},
   "source": [
    "### Konferhensif List dengan For"
   ]
  },
  {
   "cell_type": "code",
   "execution_count": null,
   "id": "db69710d",
   "metadata": {},
   "outputs": [],
   "source": [
    "list_for=[i for i in range(0,10)]"
   ]
  },
  {
   "cell_type": "markdown",
   "id": "1743497a",
   "metadata": {},
   "source": [
    "### Konferhensif List dengan For dan If"
   ]
  },
  {
   "cell_type": "code",
   "execution_count": null,
   "id": "5d79afbe",
   "metadata": {},
   "outputs": [],
   "source": [
    "list_for_if = [i for i in range(0,10) if i%2==0]"
   ]
  },
  {
   "cell_type": "markdown",
   "id": "49e63c73",
   "metadata": {},
   "source": [
    "# Mengkases List\n",
    "\n",
    "\n",
    "|Element list1|1|2|3|4|\n",
    "|--:|:-:|:-:|:-:|:-:|\n",
    "|Indeks Maju|0|1|2|3|\n",
    "|Indeks Mundur|-1|-2|3|-4|\n",
    "\n",
    "\n",
    "List merupakan tipe data yang memiliki pengindeksan setiap elementnya. Melakukan pengaksesan elemen yang terdapat dalam list dapat menggunakan sintak berikut."
   ]
  },
  {
   "cell_type": "code",
   "execution_count": 4,
   "id": "7f097745",
   "metadata": {
    "ExecuteTime": {
     "end_time": "2022-08-16T23:09:29.035293Z",
     "start_time": "2022-08-16T23:09:29.007335Z"
    }
   },
   "outputs": [
    {
     "data": {
      "text/plain": [
       "1"
      ]
     },
     "execution_count": 4,
     "metadata": {},
     "output_type": "execute_result"
    }
   ],
   "source": [
    "list1[0]"
   ]
  },
  {
   "cell_type": "markdown",
   "id": "675b7d75",
   "metadata": {},
   "source": [
    "Cell di atas merupakan untuk mengkases list satu elemen. Untuk mengakses lebih dari satu elemen dapat menggunakan sintaks `[awal:akhir:inkrement=1]` sehingga jika ingin mengkases list elemen ke dua sampai ke empat ditulis seperti `1:3`. Jika di implementasikan pada sintaks untuk mengakses`list1` maka akan seperti berikut. "
   ]
  },
  {
   "cell_type": "code",
   "execution_count": null,
   "id": "359a9aa1",
   "metadata": {},
   "outputs": [],
   "source": [
    "list1[-2]"
   ]
  },
  {
   "cell_type": "code",
   "execution_count": 5,
   "id": "f718b201",
   "metadata": {
    "ExecuteTime": {
     "end_time": "2022-08-16T23:15:09.475693Z",
     "start_time": "2022-08-16T23:15:09.463695Z"
    },
    "scrolled": true
   },
   "outputs": [
    {
     "data": {
      "text/plain": [
       "[2, 3]"
      ]
     },
     "execution_count": 5,
     "metadata": {},
     "output_type": "execute_result"
    }
   ],
   "source": [
    "list1[1:3]"
   ]
  },
  {
   "cell_type": "code",
   "execution_count": 12,
   "id": "6bedeb02",
   "metadata": {
    "ExecuteTime": {
     "end_time": "2022-08-17T05:46:13.805473Z",
     "start_time": "2022-08-17T05:46:13.789517Z"
    }
   },
   "outputs": [
    {
     "data": {
      "text/plain": [
       "[3, 4, 5]"
      ]
     },
     "execution_count": 12,
     "metadata": {},
     "output_type": "execute_result"
    }
   ],
   "source": [
    "list1[2:]"
   ]
  },
  {
   "cell_type": "code",
   "execution_count": 17,
   "id": "91ac140e",
   "metadata": {
    "ExecuteTime": {
     "end_time": "2022-08-17T07:58:25.678543Z",
     "start_time": "2022-08-17T07:58:25.660593Z"
    }
   },
   "outputs": [
    {
     "data": {
      "text/plain": [
       "[10, 2, 3]"
      ]
     },
     "execution_count": 17,
     "metadata": {},
     "output_type": "execute_result"
    }
   ],
   "source": [
    "list1[:3]"
   ]
  },
  {
   "cell_type": "code",
   "execution_count": 19,
   "id": "6f5a0c62",
   "metadata": {
    "ExecuteTime": {
     "end_time": "2022-08-17T07:58:57.997042Z",
     "start_time": "2022-08-17T07:58:57.977095Z"
    }
   },
   "outputs": [
    {
     "data": {
      "text/plain": [
       "[10, 3, 5]"
      ]
     },
     "execution_count": 19,
     "metadata": {},
     "output_type": "execute_result"
    }
   ],
   "source": [
    "list1[0:5:2]"
   ]
  },
  {
   "cell_type": "markdown",
   "id": "7171a231",
   "metadata": {},
   "source": [
    "# Merubah Element List"
   ]
  },
  {
   "cell_type": "code",
   "execution_count": 7,
   "id": "e2efe30a",
   "metadata": {
    "ExecuteTime": {
     "end_time": "2022-08-17T05:44:44.881757Z",
     "start_time": "2022-08-17T05:44:44.863842Z"
    }
   },
   "outputs": [
    {
     "name": "stdout",
     "output_type": "stream",
     "text": [
      "[1, 2, 3, 4, 5]\n"
     ]
    }
   ],
   "source": [
    "print(list1)"
   ]
  },
  {
   "cell_type": "code",
   "execution_count": 8,
   "id": "02f79189",
   "metadata": {
    "ExecuteTime": {
     "end_time": "2022-08-17T05:45:16.383176Z",
     "start_time": "2022-08-17T05:45:16.365042Z"
    }
   },
   "outputs": [],
   "source": [
    "list1[0]=10"
   ]
  },
  {
   "cell_type": "code",
   "execution_count": 9,
   "id": "3a56691e",
   "metadata": {
    "ExecuteTime": {
     "end_time": "2022-08-17T05:45:17.654121Z",
     "start_time": "2022-08-17T05:45:17.633176Z"
    }
   },
   "outputs": [
    {
     "name": "stdout",
     "output_type": "stream",
     "text": [
      "[10, 2, 3, 4, 5]\n"
     ]
    }
   ],
   "source": [
    "print(list1)"
   ]
  },
  {
   "cell_type": "code",
   "execution_count": null,
   "id": "76114f5f",
   "metadata": {},
   "outputs": [],
   "source": [
    "list1[0:2]=33"
   ]
  },
  {
   "cell_type": "markdown",
   "id": "0a8c8053",
   "metadata": {},
   "source": [
    "# Menambahkan Element List"
   ]
  },
  {
   "cell_type": "markdown",
   "id": "8ae01bb6",
   "metadata": {},
   "source": [
    "## Method `insert()`"
   ]
  },
  {
   "cell_type": "markdown",
   "id": "1b64fb3c",
   "metadata": {},
   "source": [
    "## Metode Simbol (+) Tambah"
   ]
  },
  {
   "cell_type": "code",
   "execution_count": 13,
   "id": "21f6457f",
   "metadata": {
    "ExecuteTime": {
     "end_time": "2022-08-17T05:49:48.271293Z",
     "start_time": "2022-08-17T05:49:48.252344Z"
    }
   },
   "outputs": [],
   "source": [
    "list_baru=[3,3,1,2]"
   ]
  },
  {
   "cell_type": "code",
   "execution_count": 15,
   "id": "0c928292",
   "metadata": {
    "ExecuteTime": {
     "end_time": "2022-08-17T05:50:36.970775Z",
     "start_time": "2022-08-17T05:50:36.947837Z"
    }
   },
   "outputs": [
    {
     "data": {
      "text/plain": [
       "[10, 2, 3, 4, 5, 3, 3, 1, 2]"
      ]
     },
     "execution_count": 15,
     "metadata": {},
     "output_type": "execute_result"
    }
   ],
   "source": [
    "list1=list1+list_baru\n",
    "list1"
   ]
  },
  {
   "cell_type": "markdown",
   "id": "c258eaa8",
   "metadata": {},
   "source": [
    "## Method `append()`"
   ]
  },
  {
   "cell_type": "markdown",
   "id": "28d71133",
   "metadata": {},
   "source": [
    "# Menghapus Element List"
   ]
  },
  {
   "cell_type": "markdown",
   "id": "22482323",
   "metadata": {},
   "source": [
    "## Method `pop()`"
   ]
  },
  {
   "cell_type": "markdown",
   "id": "10054194",
   "metadata": {},
   "source": [
    "## Method `remove()`"
   ]
  },
  {
   "cell_type": "markdown",
   "id": "e3d91a8a",
   "metadata": {},
   "source": [
    "## Slicing List"
   ]
  },
  {
   "cell_type": "markdown",
   "id": "b010bcd1",
   "metadata": {},
   "source": [
    "# Mengurutkan List `sort()`"
   ]
  },
  {
   "cell_type": "markdown",
   "id": "64531e68",
   "metadata": {},
   "source": [
    "## Mengurutkan Accending"
   ]
  },
  {
   "cell_type": "markdown",
   "id": "1d3d74b6",
   "metadata": {},
   "source": [
    "## Mengurutkan Descending"
   ]
  },
  {
   "cell_type": "markdown",
   "id": "cbd356e0",
   "metadata": {
    "ExecuteTime": {
     "end_time": "2022-08-17T07:19:04.466180Z",
     "start_time": "2022-08-17T07:19:04.450227Z"
    }
   },
   "source": [
    "**Important Step**\n",
    "\n",
    "\n",
    "* Langkah yang tidak boleh dilakukan \n",
    "\n",
    "```python\n",
    "list=[11,2,3,4,2,1,5,3]\n",
    "var_bar=list.sort()\n",
    "\n",
    "type(var_bar)\n",
    "\n",
    "```\n",
    "\n",
    "* Langkah yang tepat untuk memasukan ke variabel baru\n",
    "\n",
    "```python\n",
    "list=[11,2,3,4,2,1,5,3]\n",
    "list.sort()\n",
    "var_bar=list\n",
    "\n",
    "type(var_bar)\n",
    "```"
   ]
  },
  {
   "cell_type": "markdown",
   "id": "ec9ee9b3",
   "metadata": {},
   "source": [
    "# Nested List"
   ]
  },
  {
   "cell_type": "markdown",
   "id": "f562ab50",
   "metadata": {},
   "source": [
    "# Penerapan List pada For"
   ]
  }
 ],
 "metadata": {
  "kernelspec": {
   "display_name": "Python 3",
   "language": "python",
   "name": "python3"
  },
  "language_info": {
   "codemirror_mode": {
    "name": "ipython",
    "version": 3
   },
   "file_extension": ".py",
   "mimetype": "text/x-python",
   "name": "python",
   "nbconvert_exporter": "python",
   "pygments_lexer": "ipython3",
   "version": "3.8.8"
  },
  "toc": {
   "base_numbering": 1,
   "nav_menu": {},
   "number_sections": true,
   "sideBar": true,
   "skip_h1_title": false,
   "title_cell": "Table of Contents",
   "title_sidebar": "Contents",
   "toc_cell": false,
   "toc_position": {},
   "toc_section_display": true,
   "toc_window_display": false
  }
 },
 "nbformat": 4,
 "nbformat_minor": 5
}
