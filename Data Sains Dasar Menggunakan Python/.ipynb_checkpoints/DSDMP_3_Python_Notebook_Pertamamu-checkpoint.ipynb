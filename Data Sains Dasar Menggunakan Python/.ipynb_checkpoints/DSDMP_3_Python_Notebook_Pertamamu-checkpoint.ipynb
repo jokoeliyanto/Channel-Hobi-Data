{
 "cells": [
  {
   "cell_type": "markdown",
   "metadata": {},
   "source": [
    "<table>\n",
    "  <tr><td>\n",
    "    <img src=\"https://raw.githubusercontent.com/jokoeliyanto/Channel-Hobi-Data/main/Data%20Sains%20Dasar%20Menggunakan%20Python/gambar/Header%20Python%20Notebook%20Pertamaku.png\">\n",
    "  </td></tr>\n",
    "<table>"
   ]
  },
  {
   "cell_type": "markdown",
   "metadata": {},
   "source": [
    "Dokumen yang sedang Anda baca ini bukanlah halaman yang statis. Ini merupakan media interaktif bernama **Python Notebook**. Anda bisa menulis dan mengeksekusi kode di sini. Dokumen ini dapat kamu buka baik di Jupyter maupun Googel Colaboratory. **Google Colaboratory** adalah pengolah Python Notebook dalam sistem cloud dengan dilengkapi GPU yang dikembangkan oleh Google. \n",
    "\n",
    "Dokumen terdiri dari dua jenis sell utama yaitu **Sell Kode** dan **Sell Markdown/Teks**.\n",
    "* Sell Kode adalah sell yang digunakan untuk menuliskan script python\n",
    "* Sell Teks adalah sell yang digunakan untuk menuliskan teks atau mmenginputkan media lainnya untuk keperluan deskripsi kode yang dituliskan"
   ]
  },
  {
   "cell_type": "markdown",
   "metadata": {},
   "source": [
    "## Sell Kode"
   ]
  },
  {
   "cell_type": "markdown",
   "metadata": {},
   "source": [
    "Perhatikan contoh berikut ini. Di bawah ini adalah **Sell Kode** dengan skrip Python pendek untuk menampilkan kata \"Assalamualaikum Dunia\" di layar:"
   ]
  },
  {
   "cell_type": "code",
   "execution_count": 1,
   "metadata": {
    "ExecuteTime": {
     "end_time": "2022-08-15T16:33:27.843184Z",
     "start_time": "2022-08-15T16:33:27.824176Z"
    }
   },
   "outputs": [
    {
     "name": "stdout",
     "output_type": "stream",
     "text": [
      "Hallo World!!!\n"
     ]
    }
   ],
   "source": [
    "# Ini adalah Sell Kode\n",
    "print(\"Hallo World!!!\")"
   ]
  },
  {
   "cell_type": "markdown",
   "metadata": {},
   "source": [
    "Untuk menjalankan kode di atas, kamu bisa melakukan beberapa cara berikut:\n",
    "1. Klik tombol **Run** di bagian atas dokumen. \n",
    "2. Gunakan short-cut **Ctrl+Enter** untuk menjalankan sebuah sell kode. \n",
    "3. Gunakan short-cut **Alt+Enter** untuk menjalankan sebuah sell kode dan memindahkan fokus ke sell berikutnya.\n",
    "4. Gunakan short-cut **Shift+Enter** untuk menjalankan sebuah sell kode dan memindahkan fokus ke sell berikutnya, atau jika di bawahnya tidak ada sell lagi maka akan membuat sell yang baru."
   ]
  },
  {
   "cell_type": "markdown",
   "metadata": {},
   "source": [
    "Selanjutnya Anda akan mencoba untuk menuliskan dan memberikan nilai kepada sebuah variabel, kemudian variabel tersebut dapat Anda gunakan kembali pada sell kode berikutnya. Jalankan kode untuk mendefinisikan jumlah detik dalam satu hari berikut:"
   ]
  },
  {
   "cell_type": "code",
   "execution_count": 2,
   "metadata": {
    "ExecuteTime": {
     "end_time": "2022-08-15T16:33:27.882647Z",
     "start_time": "2022-08-15T16:33:27.851008Z"
    }
   },
   "outputs": [
    {
     "data": {
      "text/plain": [
       "86400"
      ]
     },
     "execution_count": 2,
     "metadata": {},
     "output_type": "execute_result"
    }
   ],
   "source": [
    "jumlah_detik_sehari=24*60*60\n",
    "jumlah_detik_sehari"
   ]
  },
  {
   "cell_type": "markdown",
   "metadata": {},
   "source": [
    "Kemudian, panggil variabel `jumlah_detik_sehari` kemudian dikalikan dengan 7 untuk mendapatkan jumlah detik dalam satu minggu"
   ]
  },
  {
   "cell_type": "code",
   "execution_count": 3,
   "metadata": {
    "ExecuteTime": {
     "end_time": "2022-08-15T16:33:27.905630Z",
     "start_time": "2022-08-15T16:33:27.886903Z"
    }
   },
   "outputs": [
    {
     "data": {
      "text/plain": [
       "604800"
      ]
     },
     "execution_count": 3,
     "metadata": {},
     "output_type": "execute_result"
    }
   ],
   "source": [
    "jumlah_detik_seminggu=7*jumlah_detik_sehari\n",
    "jumlah_detik_seminggu"
   ]
  },
  {
   "cell_type": "markdown",
   "metadata": {},
   "source": [
    "# Sell Teks "
   ]
  },
  {
   "cell_type": "markdown",
   "metadata": {},
   "source": [
    "Ini adalah sell teks. Kamu bisa mengubah jenis sell ini pada Jupyter dengan memilih pilihan pada jenis sell di bagian atas dokumen ini. Pilih jenis sell **Markdown** untuk sell teks. Anda dapat **mengklik dua kali** untuk dapat mengedit sell ini. Sell teks ini mengikuti panduan Markdon secara umum. Untuk mempelajari lebih lanjut, lihat [panduan markdown](/notebooks/markdown_guide.ipynb).\n",
    "\n",
    "Anda juga dapat menambahkan matematika ke sel teks menggunakan \n",
    "akan dirender oleh  \n",
    "\n",
    "Anda juga dapat menuliskan formula matematikan ke dalam sell teks ini menggunakan [LaTex](http://www.latex-project.org/)yang kemudian akan dirender oleh [MathJax](https://www.mathjax.org). Letakkan saja formula tersebut\n",
    "dalam pasangan tanda `\\$ ` . Misalnya `$\\sqrt {3x-1} +(1+x)^2$` menjadi $\\sqrt{3x-1}+(1+x)^2$"
   ]
  },
  {
   "cell_type": "markdown",
   "metadata": {},
   "source": [
    "Khusus untuk sell teks, kita dapat membuat heading untuk membuat struktur kepenulisan lebih mudah dibaca. Jika notebook ini Anda jalankan di Google Colaboratory, maka anda akan menemukan Daftar Isi di bagian kiri dokumen yang dapat mempermudah anda untuk menemukan konten yang anda inginkan."
   ]
  },
  {
   "cell_type": "markdown",
   "metadata": {},
   "source": [
    "Ini caption pertama saya"
   ]
  },
  {
   "cell_type": "markdown",
   "metadata": {},
   "source": [
    "# Heading 1\n",
    "\n",
    "## Heading 2\n",
    "\n",
    "### Heading 3"
   ]
  },
  {
   "cell_type": "markdown",
   "metadata": {},
   "source": [
    "*Ini adalah tulisan dengan style italic/miring*"
   ]
  },
  {
   "cell_type": "markdown",
   "metadata": {},
   "source": [
    "**Ini adalah tulisan dengan style tebal**"
   ]
  },
  {
   "cell_type": "markdown",
   "metadata": {},
   "source": [
    "`Ini adalah tulisan dengan style script kode`"
   ]
  },
  {
   "cell_type": "markdown",
   "metadata": {},
   "source": [
    "```\n",
    "Ini adalah gaya tulisan untuk menuliskan komentar dengan style huruf seperti script kode dengan jumlah yang biasanya lebih banyak.\n",
    "```"
   ]
  },
  {
   "cell_type": "markdown",
   "metadata": {},
   "source": [
    "Sintaks `print` kita gunakan untuk **mencetak** *variabel* yang telah kita buat. \n",
    "\n",
    "```\n",
    "#Contoh\n",
    "print(\"Assalamualaikum Dunia\")\n",
    "\n",
    "```"
   ]
  },
  {
   "cell_type": "markdown",
   "metadata": {},
   "source": [
    "Misalnya `$\\sqrt {3x-1} +(1+x)^2$` menjadi $\\sqrt{3x-1}+(1+x)^2$"
   ]
  },
  {
   "cell_type": "markdown",
   "metadata": {},
   "source": [
    "## Menambahkan dan Memindahkan Sell"
   ]
  },
  {
   "cell_type": "markdown",
   "metadata": {},
   "source": [
    "Untuk menambahkan sell, Anda bisa mengklik tanda **tambah** pada bagian atas dokumen. Sedangkan untuk memindahkan sell yang sedang Anda gunakan, anda bisa melakukannya dengan mengeklik tanda panah ke atas atau ke bawah pada bagian atas dokumen. Anda bisa mengcopy dan paste sell dengan mengklik icon yang berhubungan di bagian atas dokumen.\n",
    "\n",
    "Untuk menghapus sell kamu bisa mengklik icon **gunting** pada Jupyter Notebook, atau kamu bisa klik kanan pada sell dan klik icon **tempat sampah** pada Google Colaboratory. \n"
   ]
  },
  {
   "cell_type": "markdown",
   "metadata": {},
   "source": [
    "## Data Sains"
   ]
  },
  {
   "cell_type": "markdown",
   "metadata": {},
   "source": [
    "Dengan Python Notebook ini, Anda dapat memanfaatkan kecanggihan library Python yang populer untuk menganalisis dan memvisualisasikan data. Sel kode di bawah menggunakan <strong>numpy</strong> untuk menghasilkan beberapa data acak, dan menggunakan <strong>matplotlib</strong> untuk memvisualisasikannya. Untuk mengedit kode, cukup klik sel dan mulai pengeditan."
   ]
  },
  {
   "cell_type": "code",
   "execution_count": 4,
   "metadata": {
    "ExecuteTime": {
     "end_time": "2022-08-15T16:33:29.879195Z",
     "start_time": "2022-08-15T16:33:27.911616Z"
    }
   },
   "outputs": [
    {
     "data": {
      "image/png": "[encoded data removed]",
      "text/plain": [
       "<Figure size 432x288 with 1 Axes>"
      ]
     },
     "metadata": {
      "needs_background": "light"
     },
     "output_type": "display_data"
    }
   ],
   "source": [
    "import numpy as np\n",
    "from matplotlib import pyplot as plt\n",
    "\n",
    "ys = 200 + np.random.randn(100)\n",
    "x = [x for x in range(len(ys))]\n",
    "\n",
    "plt.plot(x, ys, '-')\n",
    "plt.fill_between(x, ys, 195, where=(ys > 195), facecolor='g', alpha=0.6)\n",
    "\n",
    "plt.title(\"Contoh Visualisasi\")\n",
    "plt.show()"
   ]
  },
  {
   "cell_type": "markdown",
   "metadata": {},
   "source": [
    "========================================================================================================================\n"
   ]
  },
  {
   "cell_type": "markdown",
   "metadata": {},
   "source": [
    "Ini adalah sell terakhir pada Python Notebook Ini"
   ]
  }
 ],
 "metadata": {
  "kernelspec": {
   "display_name": "Python 3",
   "language": "python",
   "name": "python3"
  },
  "language_info": {
   "codemirror_mode": {
    "name": "ipython",
    "version": 3
   },
   "file_extension": ".py",
   "mimetype": "text/x-python",
   "name": "python",
   "nbconvert_exporter": "python",
   "pygments_lexer": "ipython3",
   "version": "3.8.8"
  },
  "toc": {
   "base_numbering": 1,
   "nav_menu": {},
   "number_sections": true,
   "sideBar": true,
   "skip_h1_title": false,
   "title_cell": "Table of Contents",
   "title_sidebar": "Contents",
   "toc_cell": false,
   "toc_position": {},
   "toc_section_display": true,
   "toc_window_display": false
  }
 },
 "nbformat": 4,
 "nbformat_minor": 4
}
