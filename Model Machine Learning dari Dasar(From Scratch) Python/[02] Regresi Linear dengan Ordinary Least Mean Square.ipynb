{
 "cells": [
  {
   "cell_type": "markdown",
   "metadata": {},
   "source": [
    "<table>\n",
    "  <tr><td>\n",
    "    <img src=\"https://raw.githubusercontent.com/jokoeliyanto/Channel-Hobi-Data/main/Model%20Machine%20Learning%20dari%20Dasar(From%20Scratch)%20Python/Header%20Image/Header%20Python%20Notebook%20Regresi%20Linear%20dengan%20OLS.png\">\n",
    "  </td></tr>\n",
    "<table>"
   ]
  },
  {
   "cell_type": "markdown",
   "metadata": {},
   "source": [
    "# Apa itu Regresi Linear Sederhana?"
   ]
  },
  {
   "cell_type": "markdown",
   "metadata": {},
   "source": [
    "Regresi Linear adalah metode untuk mendefinisikan hubungan linear antara variabel dependen **Y** dan variabel independen **X**. Secara sederhana dapat dituliskan dalam formula berikut:\n",
    "\n",
    "<h1><center>\n",
    "    $Y_i=b_0+b_1X_i+\\epsilon_{i}$\n",
    "    </center></h1>\n"
   ]
  },
  {
   "cell_type": "markdown",
   "metadata": {},
   "source": [
    "Yang mana **$Y_i$** adalah variabel dependen, **$X_i$** adalah variabel independen,$ \\epsilon $ adalah kesalahan acak,  **$b_0$** disebut sebagai intercept dan **$b_1$** disebut sebagai koefisien regresi yang dapat diestimasi berdasarkan data **$Y_i$** dan **$X_i$** yang diberikan. Koefisien **$b_0$** juga biasa disebut sebagai bias. Tujuan utama dari model ini adalah untuk mengambarkan garis linear dengan kesesuaian terbaik(*best fit*) antara X dan Y yang mengestimasi hubungan antara X dan Y."
   ]
  },
  {
   "cell_type": "markdown",
   "metadata": {},
   "source": [
    "Lalu bagaimana untuk mengestimasi koefisien tersebut? Salah satu pendekatan yang dapat dilakukan adalah mengunakan metode **Ordinary Least Mean Square Method** . Pada python notebook ini, kita akan mengimplementasikan metode Ordinary Least Mean Square Method. "
   ]
  },
  {
   "cell_type": "markdown",
   "metadata": {},
   "source": [
    "## Ordinary Least Mean Square"
   ]
  },
  {
   "cell_type": "markdown",
   "metadata": {},
   "source": [
    "Sebelumnya kita telah membahas tentang estimasi hubungan antara X dan Y pada sebuah garis. Misalnya, kita sediakan input dan output sampel, kemudian kita memplot titik titik data ini pada grafik 2 dimensi, maka akan dihasilkan grafik seperti di bawah ini:"
   ]
  },
  {
   "cell_type": "markdown",
   "metadata": {},
   "source": [
    "<table>\n",
    "  <tr><td>\n",
    "    <img src=\"https://raw.githubusercontent.com/jokoeliyanto/Channel-Hobi-Data/main/Model%20Machine%20Learning%20dari%20Dasar(From%20Scratch)%20Python/Header%20Image/Data%20Regresi.png\">\n",
    "  </td></tr>\n",
    "<table>"
   ]
  },
  {
   "cell_type": "markdown",
   "metadata": {},
   "source": [
    "Garis merah pada grafik adalah hubungan sesungguhnya yang ingin disetimasi. Kita berusaha untuk meminimalkan kesalahan model yang kita bangun. Garis ini adalah garis yang paling tepat menggambarkan hubungan antara data X dan Y dengan melewati sebagian besar titik data dan memiliki kesalahan yang paling minimal. Kesalahan ini berupa jarak titik data ke garis estimasi model ini. Secara konseptual kesalahan ini diilustrasikan pada gambar di bawah ini."
   ]
  },
  {
   "cell_type": "markdown",
   "metadata": {},
   "source": [
    "<table>\n",
    "  <tr><td>\n",
    "    <img src=\"https://raw.githubusercontent.com/jokoeliyanto/Channel-Hobi-Data/main/Model%20Machine%20Learning%20dari%20Dasar(From%20Scratch)%20Python/Header%20Image/LS.gif\">\n",
    "  </td></tr>\n",
    "<table>"
   ]
  },
  {
   "cell_type": "markdown",
   "metadata": {},
   "source": [
    "Dan kesalahan total model linier adalah jumlah kesalahan dari setiap titiknya, yaitu:\n",
    "\n",
    "<h1><center>\n",
    "    $ \\sum \\limits_{i=1} ^{n} {\\epsilon_i}^2 $\n",
    "    </center></h1>"
   ]
  },
  {
   "cell_type": "markdown",
   "metadata": {},
   "source": [
    "$\\epsilon_i$ = Jarak antara garis ke titik data ke-i\n",
    "\n",
    "$n$ = Jumlah total titik data"
   ]
  },
  {
   "cell_type": "markdown",
   "metadata": {},
   "source": [
    "Formula di atas diperoleh dari:"
   ]
  },
  {
   "cell_type": "markdown",
   "metadata": {},
   "source": [
    "<center>\n",
    "    $\\begin{eqnarray} \n",
    "    y_i &=& b_{0} + b_{1}. x_{i} + \\epsilon_{i}\\\\\n",
    "    \\epsilon_{i} &=& y_i - b_{0} - b_{1}. x_{i}\\\\\n",
    "    \\sum \\limits_{i=1} ^{n} {\\epsilon_i}^2 &=& \\sum \\limits_{i=1} ^{n} {(y_i - b_{0} - b_{1}. x_{i})}^2\\\\\n",
    "    \\end{eqnarray}$"
   ]
  },
  {
   "cell_type": "markdown",
   "metadata": {},
   "source": [
    "Pada baris terakhir persamaan di atas kita **mengkuadratkan kesalahan yang berupa jarak antara garis estimasi dengan titik data**. _Kita dapat mengkuadratkan masing-masing jarak karena terdapat beberapa titik di atas garis dan beberapa di bawahnya._ Kemudian, untuk memperoleh model terbaik jarak tersebut dapat kita minimumkan. Misal $ \\sum \\limits_{i=1} ^{n} {\\epsilon_i}^2  = J $"
   ]
  },
  {
   "cell_type": "markdown",
   "metadata": {},
   "source": [
    "Ide Dasar Metode OLS: **Nilai minimum dari fungsi kesalahan $ \\sum \\limits_{i=1} ^{n} {\\epsilon_i}^2  $ terjadi saat turunan pertama terhadap koefisien $b_0$ dan $b_1$ sama dengan 0. Ini merujuk pada konsep dasar turunan fungsi dalam kalkulus yaitu nilai minimum suatu fungsi terjadi saat turunan pertamanya sama dengan 0.** \n",
    "\n",
    "Konsep ini kemudian diperluas menjadi metode Gradient Descent. "
   ]
  },
  {
   "cell_type": "markdown",
   "metadata": {},
   "source": [
    "**Mencari nilai minimum untuk $b_{0}$**"
   ]
  },
  {
   "cell_type": "markdown",
   "metadata": {},
   "source": [
    "<center>\n",
    "    $\\begin{eqnarray} \n",
    "    J &=& \\sum \\limits_{i=1} ^{n} {(y_i - b_{0} - b_{1}. x_{i})}^2\\\\\n",
    "    \\frac{\\partial J}{\\partial b_{0}} &=& 2 \\sum \\limits_{i=1} ^{n} {(y_i - b_{0} - b_{1}. x_{i})}^{(2-1)} . (-1)\\\\\n",
    "    \\frac{\\partial J}{\\partial b_{0}} &=& -2 \\sum \\limits_{i=1} ^{n} {(y_i - b_{0} - b_{1}. x_{i})}\\\\\n",
    "    \\frac{\\partial J}{\\partial b_{0}} &=& 0\\\\\n",
    "    \\sum \\limits_{i=1} ^{n} {(y_i - \\hat{b_{0}} - \\hat{b_{1}}. x_{i})} &=& 0\\\\\n",
    "    \\sum \\limits_{i=1} ^{n} y_i - n \\hat{b_{0}} - \\hat{b_{1}}\\sum \\limits_{i=1} ^{n} x_i &=& 0\\\\\n",
    "    n \\hat{b_{0}} &=& \\sum \\limits_{i=1} ^{n} y_i - \\hat{b_{1}}\\sum \\limits_{i=1} ^{n} x_i\\\\\n",
    "    \\hat{b_{0}} &=& \\frac{\\sum \\limits_{i=1} ^{n} y_i - \\hat{b_{1}}\\sum \\limits_{i=1} ^{n} x_i}{n}\\\\\n",
    "    \\hat{b_{0}} &=& \\bar{y} - \\hat{b_{1}}\\bar{x}\\\\\n",
    "    \\end{eqnarray}$"
   ]
  },
  {
   "cell_type": "markdown",
   "metadata": {},
   "source": [
    "Sehingga diperoleh formula untuk $b_0$ adalah\n",
    "\n",
    "<h3><center>\n",
    "    $ \\hat{b_{0}} = \\bar{y} - \\hat{b_{1}} \\bar{x} $\n",
    "    "
   ]
  },
  {
   "cell_type": "markdown",
   "metadata": {},
   "source": [
    "**Mencari nilai minimum untuk $b_{1}$**"
   ]
  },
  {
   "cell_type": "markdown",
   "metadata": {},
   "source": [
    "<center>\n",
    "    $\\begin{eqnarray} \n",
    "    J &=& \\sum \\limits_{i=1} ^{n} {(y_i - b_{0} - b_{1}. x_{i})}^2\\\\\n",
    "    \\frac{\\partial J}{\\partial b_{1}} &=& 2 \\sum \\limits_{i=1} ^{n} {(y_{i} - b_{0} - b_{1}. x_{i})}^{(2-1)} . (-x_{i})\\\\\n",
    "    \\frac{\\partial J}{\\partial b_{1}} &=& -2 \\sum \\limits_{i=1} ^{n} {(x_{i}.y_{i} - b_{0}.x_{i} - b_{1}. x_{i}^2)}\\\\\n",
    "    \\frac{\\partial J}{\\partial b_{1}} &=& 0\\\\\n",
    "    \\sum \\limits_{i=1} ^{n} x_{i}.y_{i} - \\hat{b_{0}} \\sum \\limits_{i=1} ^{n} x_{i} - \\hat{b_{1}} \\sum \\limits_{i=1} ^{n} x_{i}^2 &=& 0 \\\\\n",
    "    \\sum \\limits_{i=1} ^{n} x_{i}.y_{i} - \\begin{pmatrix} \\frac{\\sum \\limits_{i=1} ^{n} y_i - \\hat{b_{1}}\\sum \\limits_{i=1} ^{n} x_i}{n} \\end{pmatrix} \\sum \\limits_{i=1} ^{n} x_{i} - \\hat{b_{1}} \\sum \\limits_{i=1} ^{n} x_{i}^2 &=& 0 \\\\\n",
    "    \\sum \\limits_{i=1} ^{n} x_{i}.y_{i} - \\frac{\\sum \\limits_{i=1} ^{n} x_{i} \\sum \\limits_{i=1}^{n} y_{i}}{n} + \\hat{b_{1}} \\frac{\\begin{pmatrix} \\sum \\limits_{i=1} ^{n} x_{i} \\end{pmatrix}^2 }{n} - \\hat{b_{1}} \\sum \\limits_{i=1} ^{n} x_{i}^2 &=& 0 \\\\\n",
    "    \\hat{b_{1}} \\begin{pmatrix} \\frac{\\begin{pmatrix} \\sum \\limits_{i=1} ^{n} x_{i} \\end{pmatrix}^2 }{n} - \\sum \\limits_{i=1} ^{n} x_{i}^2 \\end{pmatrix} &=& \\frac{\\sum \\limits_{i=1} ^{n} x_{i} \\sum \\limits_{i=1}^{n} y_{i}}{n} - \\sum \\limits_{i=1} ^{n} x_{i}.y_{i}\\\\\n",
    "    \\hat{b_{1}} &=& \\frac{\\sum \\limits_{i=1} ^{n} x_{i}.y_{i} - \\frac{\\sum \\limits_{i=1} ^{n} x_{i} \\sum \\limits_{i=1}^{n} y_{i}}{n}}{\\sum \\limits_{i=1} ^{n} x_{i}^2 - \\frac{\\begin{pmatrix} \\sum \\limits_{i=1} ^{n} x_{i} \\end{pmatrix}^2 }{n}}\n",
    "    \\end{eqnarray}$"
   ]
  },
  {
   "cell_type": "markdown",
   "metadata": {},
   "source": [
    "Sehingga diperoleh formula untuk $b_1$ adalah\n",
    "\n",
    "<h3><center>\n",
    "    $ \\hat{b_{1}} = \\frac{\\sum \\limits_{i=1} ^{n} x_{i}.y_{i} - \\frac{\\sum \\limits_{i=1} ^{n} x_{i} \\sum \\limits_{i=1}^{n} y_{i}}{n}}{\\sum \\limits_{i=1} ^{n} x_{i}^2 - \\frac{\\begin{pmatrix} \\sum \\limits_{i=1} ^{n} x_{i} \\end{pmatrix}^2 }{n}}$\n",
    "    "
   ]
  },
  {
   "cell_type": "markdown",
   "metadata": {},
   "source": [
    "Persamaan terakhir bisa ditulis ulang untuk kemudahan pemrograman sebagai berikut:"
   ]
  },
  {
   "cell_type": "markdown",
   "metadata": {},
   "source": [
    "<h3><center>\n",
    "    $ \\hat{b_{1}} = \\frac{ \\sum \\limits_{i=1}^{n} \\begin{pmatrix} x_{i} - \\bar{x} \\end{pmatrix}  \\begin{pmatrix} y_{i} - \\bar{y}  \\end{pmatrix}}{ \\sum \\limits_{i=1}^{n} \\begin{pmatrix} x_{i} - \\bar{x} \\end{pmatrix}^2} $"
   ]
  },
  {
   "cell_type": "markdown",
   "metadata": {},
   "source": [
    "Setelah mendapatkan keduanya, kita dapat mulai melakukan implementasi pada python."
   ]
  },
  {
   "cell_type": "markdown",
   "metadata": {},
   "source": [
    "## Contoh Perhitungan Manual Regresi Linear"
   ]
  },
  {
   "cell_type": "markdown",
   "metadata": {},
   "source": [
    "Diketahui data X dan Y adalah sebagai berikut(Y=2X-1):\n",
    "\n",
    "\n",
    "$$\\begin{matrix}\n",
    "X & Y\\\\\n",
    "1 & 1\\\\\n",
    "3 & 5\\\\\n",
    "5 & 9\\\\\n",
    "6 & 11\\\\\n",
    "7 & 13\\\\\n",
    "8 & 15\\\\\n",
    "\\end{matrix} $$\n",
    "\n",
    "Berikut adalah proses menghitung model Regresi Linear dari data di atas:\n",
    "\n",
    "**1. Menghitung rata-rata X dan Y**\n",
    "\n",
    "$$n = 6$$\n",
    "\n",
    "$$\n",
    "\\bar{x}=\\frac{1+3+5+6+7+8}{6}= \\frac{30}{6}=5\\\\\n",
    "\\bar{y}=\\frac{1+5+9+11+13+15}{6}= \\frac{54}{6}=9\\\\\n",
    "$$\n",
    "    \n",
    "**2. Menghitung $b_{1}$**\n",
    "\n",
    "$$\n",
    "\\begin{eqnarray}\n",
    "\\hat{b_{1}} &=& \\frac{ \\sum \\limits_{i=1}^{n} \\begin{pmatrix} x_{i} - \\bar{x} \\end{pmatrix}  \\begin{pmatrix} y_{i} - \\bar{y}  \\end{pmatrix}}{ \\sum \\limits_{i=1}^{n} \\begin{pmatrix} x_{i} - \\bar{x} \\end{pmatrix}^2} \\\\\n",
    "\\hat{b_{1}} &=& \\frac{\\begin{pmatrix} [1-5][1-9]+[3-5][5-9]+[5-5][9-9]+[6-5][11-9]+[7-5][13-9]+[8-5][15-9] \\end{pmatrix} }{\\begin{pmatrix} [1-5]^2+[3-5]^2+[5-5]^2+[6-5]^2+[7-5]^2+[8-5]^2 \\end{pmatrix}}\\\\\n",
    "\\hat{b_{1}} &=& \\frac{\\begin{pmatrix} (-4)(-8) + (-2)(-4) + (0)(0) + (1)(2) + (2)(4) + (3)(6) \\end{pmatrix}  }{\\begin{pmatrix} (-4)^2+(-2)^2+0^2+1^2+2^2+3^2 \\end{pmatrix}}\\\\\n",
    "\\hat{b_{1}} &=& \\frac{32 + 8 + 0 + 2 + 8 + 18}{16+4+0+1+4+9}\\\\\n",
    "\\hat{b_{1}} &=& \\frac{68}{34}\\\\\n",
    "\\hat{b_{1}} &=& 2\n",
    "\\end{eqnarray}\n",
    "$$\n",
    "\n",
    "**2. Menghitung $b_{0}$**\n",
    "\n",
    "$$\n",
    "\\begin{eqnarray}\n",
    "\\hat{b_{0}} = \\bar{y} - \\hat{b_{1}} \\bar{x} \\\\\n",
    "\\hat{b_{0}} = 9 - (2)\\times 5 \\\\\n",
    "\\hat{b_{0}} = -1 \\\\\n",
    "\\end{eqnarray}\n",
    "$$\n",
    "\n",
    "**3. Menyusun Persamaan Regresi Linear**\n",
    "\n",
    "$$\n",
    "\\begin{eqnarray}\n",
    "Y &=& \\hat{b_{0}} + \\hat{b_{1}} X\\\\\n",
    "Y &=& -1 + 2 X\\\\\n",
    "\\end{eqnarray}\n",
    "$$"
   ]
  },
  {
   "cell_type": "markdown",
   "metadata": {},
   "source": [
    "## Regresi Linear Python From Scratch"
   ]
  },
  {
   "cell_type": "markdown",
   "metadata": {},
   "source": [
    "### Membangun Model Regresi Linear"
   ]
  },
  {
   "cell_type": "markdown",
   "metadata": {},
   "source": [
    "Pertama, import library python yang dibutuhkan yaitu:\n",
    "* Numpy\n",
    "* Pandas\n",
    "* Matplotlib"
   ]
  },
  {
   "cell_type": "code",
   "execution_count": 38,
   "metadata": {},
   "outputs": [],
   "source": [
    "import numpy as np\n",
    "import pandas as pd\n",
    "import matplotlib.pyplot as plt\n",
    "from sklearn.model_selection import train_test_split \n",
    "%matplotlib inline"
   ]
  },
  {
   "cell_type": "markdown",
   "metadata": {},
   "source": [
    "Untuk memahami konsep, kita akan menggunakan data X dan Y seperti yang kita tunjukkan pada proses penghitungan manual."
   ]
  },
  {
   "cell_type": "code",
   "execution_count": 39,
   "metadata": {},
   "outputs": [],
   "source": [
    "X_train=np.array([1, 3, 5, 6, 7, 8])\n",
    "y_train=np.array([1, 5, 9, 11, 13, 15])"
   ]
  },
  {
   "cell_type": "code",
   "execution_count": 40,
   "metadata": {},
   "outputs": [
    {
     "name": "stdout",
     "output_type": "stream",
     "text": [
      "Rata-rata X: 5.0\n",
      "Rata-rata Y: 9.0\n",
      "Jumlah data(n): 9.0\n",
      "( 1 - 5.0 ) * ( 1 - 9.0 ) = 32.0\n",
      "( 1 - 5.0 ) ^2  = 16.0\n",
      "( 3 - 5.0 ) * ( 5 - 9.0 ) = 8.0\n",
      "( 3 - 5.0 ) ^2  = 4.0\n",
      "( 5 - 5.0 ) * ( 9 - 9.0 ) = 0.0\n",
      "( 5 - 5.0 ) ^2  = 0.0\n",
      "( 6 - 5.0 ) * ( 11 - 9.0 ) = 2.0\n",
      "( 6 - 5.0 ) ^2  = 1.0\n",
      "( 7 - 5.0 ) * ( 13 - 9.0 ) = 8.0\n",
      "( 7 - 5.0 ) ^2  = 4.0\n",
      "( 8 - 5.0 ) * ( 15 - 9.0 ) = 18.0\n",
      "( 8 - 5.0 ) ^2  = 9.0\n",
      "Pembilang = 68.0\n",
      "Penyebut = 34.0\n",
      "b_1 = 2.0\n",
      "b_0 = -1.0\n"
     ]
    }
   ],
   "source": [
    "# Proses Training Model\n",
    "\n",
    "# Menghitung rata-rata inputs and outputs\n",
    "x_rata2 = np.mean(X_train)\n",
    "print(\"Rata-rata X:\", x_rata2)\n",
    "y_rata2 = np.mean(y_train)\n",
    "print(\"Rata-rata Y:\", y_rata2)\n",
    "\n",
    "# Jumlah data \n",
    "n = len(X_train)\n",
    "print(\"Jumlah data(n):\", y_rata2)\n",
    "\n",
    "# Menuliskan formula untuk menghitung beta 0 dan beta 1\n",
    "A = 0\n",
    "B = 0\n",
    "for i in range(n):\n",
    "    a = (X_train[i] - x_rata2) * (y_train[i] - y_rata2)\n",
    "    print(\"(\",X_train[i], \"-\", x_rata2, \")\", \"*\", \"(\", y_train[i], \"-\", y_rata2, \") =\", a )\n",
    "    A += a\n",
    "    b = (X_train[i] - x_rata2) ** 2\n",
    "    print(\"(\", X_train[i], \"-\", x_rata2, \")\", \"^2\", \" =\", b )\n",
    "    B += b\n",
    "    \n",
    "print(\"Pembilang =\", A)\n",
    "print(\"Penyebut =\",  B)\n",
    "\n",
    "# Menampilkan Koefisien Regresi Linear\n",
    "b_1 = A / B\n",
    "print(\"b_1 =\", b_1)\n",
    "b_0 = y_rata2 - (b_1 * x_rata2)\n",
    "print(\"b_0 =\", b_0)"
   ]
  },
  {
   "cell_type": "code",
   "execution_count": 41,
   "metadata": {},
   "outputs": [
    {
     "data": {
      "image/png": "[encoded data removed]",
      "text/plain": [
       "<Figure size 432x288 with 1 Axes>"
      ]
     },
     "metadata": {
      "needs_background": "light"
     },
     "output_type": "display_data"
    }
   ],
   "source": [
    "# Plot Nilai Data\n",
    "x_max = np.max(X_train)\n",
    "x_min = np.min(X_train)\n",
    "\n",
    "# Garis Regresi\n",
    "x = np.linspace(x_min, x_max, 1000)\n",
    "y = b_0 + b_1 * x\n",
    "\n",
    "# Plott Garis Regresi \n",
    "plt.plot(x, y, color='red', label='Regresi Linear')\n",
    "\n",
    "# Plot Titik Data\n",
    "plt.scatter(X_train, y_train, color='blue', label='Data')\n",
    "\n",
    "# Label sumbu\n",
    "plt.xlabel('X')\n",
    "\n",
    "# Label sumbu y\n",
    "plt.ylabel('Y')\n",
    "\n",
    "# Menampilkan Legenda\n",
    "plt.legend()\n",
    "\n",
    "# Menampilkan Gambar Hasil Plot\n",
    "plt.show()"
   ]
  },
  {
   "cell_type": "markdown",
   "metadata": {},
   "source": [
    "### Implementasi Model Regresi Linear Pada Data Real"
   ]
  },
  {
   "cell_type": "markdown",
   "metadata": {},
   "source": [
    "Kita akan menggunakan dataset yang berisi **ukuran kepala** dan **berat organ otak**."
   ]
  },
  {
   "cell_type": "code",
   "execution_count": 42,
   "metadata": {},
   "outputs": [
    {
     "name": "stdout",
     "output_type": "stream",
     "text": [
      "(237, 4)\n"
     ]
    },
    {
     "data": {
      "text/html": [
       "<div>\n",
       "<style scoped>\n",
       "    .dataframe tbody tr th:only-of-type {\n",
       "        vertical-align: middle;\n",
       "    }\n",
       "\n",
       "    .dataframe tbody tr th {\n",
       "        vertical-align: top;\n",
       "    }\n",
       "\n",
       "    .dataframe thead th {\n",
       "        text-align: right;\n",
       "    }\n",
       "</style>\n",
       "<table border=\"1\" class=\"dataframe\">\n",
       "  <thead>\n",
       "    <tr style=\"text-align: right;\">\n",
       "      <th></th>\n",
       "      <th>Gender</th>\n",
       "      <th>Age Range</th>\n",
       "      <th>Head Size(cm^3)</th>\n",
       "      <th>Brain Weight(grams)</th>\n",
       "    </tr>\n",
       "  </thead>\n",
       "  <tbody>\n",
       "    <tr>\n",
       "      <th>0</th>\n",
       "      <td>1</td>\n",
       "      <td>1</td>\n",
       "      <td>4512</td>\n",
       "      <td>1530</td>\n",
       "    </tr>\n",
       "    <tr>\n",
       "      <th>1</th>\n",
       "      <td>1</td>\n",
       "      <td>1</td>\n",
       "      <td>3738</td>\n",
       "      <td>1297</td>\n",
       "    </tr>\n",
       "    <tr>\n",
       "      <th>2</th>\n",
       "      <td>1</td>\n",
       "      <td>1</td>\n",
       "      <td>4261</td>\n",
       "      <td>1335</td>\n",
       "    </tr>\n",
       "    <tr>\n",
       "      <th>3</th>\n",
       "      <td>1</td>\n",
       "      <td>1</td>\n",
       "      <td>3777</td>\n",
       "      <td>1282</td>\n",
       "    </tr>\n",
       "    <tr>\n",
       "      <th>4</th>\n",
       "      <td>1</td>\n",
       "      <td>1</td>\n",
       "      <td>4177</td>\n",
       "      <td>1590</td>\n",
       "    </tr>\n",
       "  </tbody>\n",
       "</table>\n",
       "</div>"
      ],
      "text/plain": [
       "   Gender  Age Range  Head Size(cm^3)  Brain Weight(grams)\n",
       "0       1          1             4512                 1530\n",
       "1       1          1             3738                 1297\n",
       "2       1          1             4261                 1335\n",
       "3       1          1             3777                 1282\n",
       "4       1          1             4177                 1590"
      ]
     },
     "execution_count": 42,
     "metadata": {},
     "output_type": "execute_result"
    }
   ],
   "source": [
    "dataset = pd.read_csv('https://raw.githubusercontent.com/jokoeliyanto/Channel-Hobi-Data/main/Model%20Machine%20Learning%20dari%20Dasar(From%20Scratch)%20Python/Dataset/dataset_regresi_linear.csv')\n",
    "# Melihat ukuran dataset\n",
    "print(dataset.shape)\n",
    "# Menampilkan 5 data teratas\n",
    "dataset.head()"
   ]
  },
  {
   "cell_type": "markdown",
   "metadata": {},
   "source": [
    "Mencari hubungan antara data X(Ukuran Kepala) dan Y(Berat Organ Otak)"
   ]
  },
  {
   "cell_type": "code",
   "execution_count": 43,
   "metadata": {},
   "outputs": [],
   "source": [
    "# Definisikan Variabel Input(X) dan Output(Y)\n",
    "X = dataset['Head Size(cm^3)'].values.reshape(-1,1)\n",
    "Y = dataset['Brain Weight(grams)'].values.reshape(-1,1)"
   ]
  },
  {
   "cell_type": "code",
   "execution_count": 44,
   "metadata": {},
   "outputs": [],
   "source": [
    "# Membagi data menjadi data training dan data testing\n",
    "X_train, X_test, y_train, y_test = train_test_split(X, Y, test_size=0.2, random_state=0)"
   ]
  },
  {
   "cell_type": "code",
   "execution_count": 45,
   "metadata": {},
   "outputs": [
    {
     "name": "stdout",
     "output_type": "stream",
     "text": [
      "[334.26127335] [0.26106902]\n"
     ]
    }
   ],
   "source": [
    "# Proses Training Model\n",
    "\n",
    "# Menghitung rata-rata inputs and outputs\n",
    "x_rata2 = np.mean(X_train)\n",
    "y_rata2 = np.mean(y_train)\n",
    "\n",
    "# Jumlah data \n",
    "n = len(X_train)\n",
    "\n",
    "# Menuliskan formula untuk menghitung beta 0 dan beta 1\n",
    "A = 0\n",
    "B = 0\n",
    "for i in range(n):\n",
    "    A += (X_train[i] - x_rata2) * (y_train[i] - y_rata2)\n",
    "    B += (X_train[i] - x_rata2) ** 2\n",
    "    \n",
    "b_1 = A / B\n",
    "b_0 = y_rata2 - (b_1 * x_rata2)\n",
    "\n",
    "# Menampilkan Koefisien Regresi Linear\n",
    "print(b_0, b_1)"
   ]
  },
  {
   "cell_type": "markdown",
   "metadata": {},
   "source": [
    "Dalam notasi matematika, hasil ini dapat ditulis sebagai berikut:"
   ]
  },
  {
   "cell_type": "markdown",
   "metadata": {},
   "source": [
    "```\n",
    "Brain weights =  334.26127335 + 0.26106902 * Head size\n",
    "```"
   ]
  },
  {
   "cell_type": "markdown",
   "metadata": {},
   "source": [
    "Sekarang kita memiliki model linier. Mari kita plot secara grafis."
   ]
  },
  {
   "cell_type": "code",
   "execution_count": 46,
   "metadata": {},
   "outputs": [
    {
     "data": {
      "image/png": "[encoded data removed]",
      "text/plain": [
       "<Figure size 432x288 with 1 Axes>"
      ]
     },
     "metadata": {
      "needs_background": "light"
     },
     "output_type": "display_data"
    }
   ],
   "source": [
    "# Plot Nilai Data\n",
    "x_max = np.max(X) + 100\n",
    "x_min = np.min(X) - 100\n",
    "\n",
    "# Garis Regresi\n",
    "x = np.linspace(x_min, x_max, 1000)\n",
    "y = b_0 + b_1 * x\n",
    "\n",
    "# Plott Garis Regresi \n",
    "plt.plot(x, y, color='red', label='Regresi Linear')\n",
    "\n",
    "# Plot Titik Data\n",
    "plt.scatter(X, Y, color='blue', label='Data')\n",
    "\n",
    "# Label sumbu\n",
    "plt.xlabel('Head Size (cm^3)')\n",
    "\n",
    "# Label sumbu y\n",
    "plt.ylabel('Brain Weight (grams)')\n",
    "\n",
    "# Menampilkan Legenda\n",
    "plt.legend()\n",
    "\n",
    "# Menampilkan Gambar Hasil Plot\n",
    "plt.show()"
   ]
  },
  {
   "cell_type": "markdown",
   "metadata": {},
   "source": [
    "### Evaluasi Model"
   ]
  },
  {
   "cell_type": "markdown",
   "metadata": {},
   "source": [
    "Kita perlu mengukur tingkat ketepatan(akurasi) model yang telah diperoleh. Terdapat banyak metode untuk melakukan hal ini, namun pada artikel ini kita memilih menggunakan **Root Mean Square Error** dan **Koefisien Determinasi ($R^2$ Skor)**"
   ]
  },
  {
   "cell_type": "markdown",
   "metadata": {},
   "source": [
    "<h1><center>\n",
    "    $ RMSE = \\sqrt{\\frac{1}{n} \\sum_{i=1}^{n} {(y_i - \\hat{y_i})}^2} $\n",
    "    </center></h1>"
   ]
  },
  {
   "cell_type": "markdown",
   "metadata": {},
   "source": [
    "$\\hat{y_i}$ adalah nilai hasil prediksi ke-i. Berikut adalah penulisan kode untuk RMSE"
   ]
  },
  {
   "cell_type": "code",
   "execution_count": 47,
   "metadata": {},
   "outputs": [
    {
     "name": "stdout",
     "output_type": "stream",
     "text": [
      "[36.34269155]\n"
     ]
    }
   ],
   "source": [
    "rmse = 0\n",
    "for i in range(len(X_test)):\n",
    "    y_pred=  b_0 + b_1* X_test[i]\n",
    "    rmse += (y_test[i] - y_pred) ** 2\n",
    "    \n",
    "rmse = np.sqrt(rmse/n)\n",
    "print(rmse)"
   ]
  },
  {
   "cell_type": "markdown",
   "metadata": {},
   "source": [
    "Selanjutnya, mari kita hitung nilai $R^2$  skor untuk mengukur tingkat akurasi dari model linear yang diperoleh, secara matematis $R^2$ dituliskan sebagai berikut:"
   ]
  },
  {
   "cell_type": "markdown",
   "metadata": {},
   "source": [
    "<h1><center>\n",
    "    $ R^2 =1- \\frac{SSE}{SST}=1-  \\frac{\\sum (\\hat{y_i}-\\bar{y})^2}{\\sum (y_i - \\bar{y})^2} $\n",
    "    </center></h1>"
   ]
  },
  {
   "cell_type": "markdown",
   "metadata": {},
   "source": [
    "SSE adalah jumlah kuadrat galat sedangkan SST jumlah kuadrat total."
   ]
  },
  {
   "cell_type": "markdown",
   "metadata": {},
   "source": [
    "$R^2$ skor biasanya memiliki nilai antara 0 hingga 1. Nilai ini juga bisa bernilai negatif jika model regresi benar-benar salah. Di bawah ini adalah kode pemrograman untuk menghitung $R^2$ skor"
   ]
  },
  {
   "cell_type": "code",
   "execution_count": 48,
   "metadata": {},
   "outputs": [
    {
     "name": "stdout",
     "output_type": "stream",
     "text": [
      "Koefisien Determinasi: [0.63763642]\n"
     ]
    }
   ],
   "source": [
    "SST = 0\n",
    "SSE = 0\n",
    "y_pred=  b_0 + b_1*X_test\n",
    "y_rata2 = np.mean(y_test)\n",
    "for i in range(len(X_test)) :\n",
    "    SST += (y_test[i] - y_rata2) ** 2\n",
    "    SSE += (y_test[i] - y_pred[i]) **2\n",
    "\n",
    "score = 1- (SSE/SST)\n",
    "print(\"Koefisien Determinasi:\", score)"
   ]
  },
  {
   "cell_type": "markdown",
   "metadata": {},
   "source": [
    "## Menyusun Program dengan OOP"
   ]
  },
  {
   "cell_type": "markdown",
   "metadata": {},
   "source": [
    "Selanjutnya akan ditunjukkan bagaimana mengumpulkan kode-kode di atas dalam style Object Oriented Programming(OOP). Tujuannya adalah untuk kemudahan pemakaian dalam implementasi. Sehingga program yang kita susun bisa berjalan selayaknya fungsi-fungsi pada Library Scikit Learn Python Official."
   ]
  },
  {
   "cell_type": "code",
   "execution_count": 49,
   "metadata": {},
   "outputs": [],
   "source": [
    "import numpy as np\n",
    "import matplotlib.pyplot as plt\n",
    "\n",
    "class Regresi_Linear_OLS:\n",
    "    def __init__(self, x, y):\n",
    "        self.X = x                          # Data \n",
    "        self.y = y                          # label Data\n",
    "        self.b1 = 0                         # Beta 1    , y=b0+b1X        \n",
    "        self.b0 = 0                         # Beta 0    , y=b0+b1X\n",
    "        self.n  = len(x)                    # Jumlah baris data\n",
    "        \n",
    "    def latih(self):\n",
    "        # Menghitung rata-rata inputs and outputs\n",
    "        x_rata2 = np.mean(self.X)\n",
    "        y_rata2 = np.mean(self.y)\n",
    "        \n",
    "        # Menuliskan formula untuk menghitung beta 0 dan beta 1\n",
    "        A = 0\n",
    "        B = 0\n",
    "        \n",
    "        for i in range(self.n):\n",
    "            A += (self.X[i] - x_rata2) * (self.y[i] - y_rata2)\n",
    "            B += (self.X[i] - x_rata2) ** 2\n",
    "\n",
    "        self.b1 = A / B\n",
    "        self.b0 = y_rata2 - (self.b1 * x_rata2)\n",
    "        return self.b0, self.b1\n",
    "        \n",
    "    def prediksi(self, inp):\n",
    "        y_pred = self.b0 + self.b1*inp\n",
    "        return y_pred\n",
    "    \n",
    "    def plot(self, inp, label_sb_x, label_sb_y):\n",
    "        # Plot Nilai Data\n",
    "        x_max = np.max(self.X)\n",
    "        x_min = np.min(self.X)\n",
    "        \n",
    "        # Garis Regresi\n",
    "        x      = np.linspace(x_min, x_max, 1000)\n",
    "        y_pred = self.b0 + self.b1*x\n",
    "\n",
    "        # Plott Garis Regresi \n",
    "        plt.plot(x, y_pred, color='red', label='Regresi Linear')\n",
    "        \n",
    "        # Plot Titik Data\n",
    "        plt.scatter(self.X, self.y, color='blue', label='Data')\n",
    "        \n",
    "        # Label sumbu\n",
    "        plt.xlabel(label_sb_x)\n",
    "        \n",
    "        # Label sumbu y\n",
    "        plt.ylabel(label_sb_y)\n",
    "\n",
    "        # Menampilkan Legenda\n",
    "        plt.legend()\n",
    "\n",
    "        # Menampilkan Gambar Hasil Plot\n",
    "        plt.show()\n",
    "        \n",
    "    def RMSE(self):\n",
    "        y_pred=  self.b0 + self.b1*self.X\n",
    "        mse = 0\n",
    "        for i in range(self.n):\n",
    "            mse += (self.y[i] - y_pred[i]) ** 2\n",
    "        rmse = np.sqrt(mse/n)\n",
    "        return rmse\n",
    "    \n",
    "    def koef_det(self):\n",
    "        SST = 0\n",
    "        SSE = 0\n",
    "        y_pred=  self.b0 + self.b1*self.X\n",
    "        y_rata2 = np.mean(self.y)\n",
    "        for i in range(self.n) :\n",
    "            SST += (self.y[i] - y_rata2) ** 2\n",
    "            SSE += (self.y[i] - y_pred[i]) **2\n",
    "            \n",
    "        score  = 1 - (SSE/SST)\n",
    "        return score"
   ]
  },
  {
   "cell_type": "code",
   "execution_count": 50,
   "metadata": {},
   "outputs": [],
   "source": [
    "model = Regresi_Linear_OLS(X_train, y_train)"
   ]
  },
  {
   "cell_type": "code",
   "execution_count": 51,
   "metadata": {},
   "outputs": [
    {
     "data": {
      "text/plain": [
       "(array([334.26127335]), array([0.26106902]))"
      ]
     },
     "execution_count": 51,
     "metadata": {},
     "output_type": "execute_result"
    }
   ],
   "source": [
    "model.latih()"
   ]
  },
  {
   "cell_type": "code",
   "execution_count": 52,
   "metadata": {},
   "outputs": [
    {
     "data": {
      "image/png": "[encoded data removed]",
      "text/plain": [
       "<Figure size 432x288 with 1 Axes>"
      ]
     },
     "metadata": {
      "needs_background": "light"
     },
     "output_type": "display_data"
    }
   ],
   "source": [
    "model.plot(x, 'Head Size (cm^3)', 'Brain Weight (grams)')"
   ]
  },
  {
   "cell_type": "code",
   "execution_count": 53,
   "metadata": {},
   "outputs": [
    {
     "data": {
      "text/plain": [
       "array([72.12851469])"
      ]
     },
     "execution_count": 53,
     "metadata": {},
     "output_type": "execute_result"
    }
   ],
   "source": [
    "model.RMSE()"
   ]
  },
  {
   "cell_type": "code",
   "execution_count": 54,
   "metadata": {},
   "outputs": [
    {
     "data": {
      "text/plain": [
       "array([0.63923876])"
      ]
     },
     "execution_count": 54,
     "metadata": {},
     "output_type": "execute_result"
    }
   ],
   "source": [
    "model.koef_det()"
   ]
  },
  {
   "cell_type": "markdown",
   "metadata": {},
   "source": [
    "## Regresi Linear dengan Library Scikit Learn Python"
   ]
  },
  {
   "cell_type": "markdown",
   "metadata": {},
   "source": [
    "Selanjutnya kita akan membandingkan fungsi Regresi Linear yang telah kita buat dari dasar menggunakan metode OLS dengan model Regresi Linear (`LinearRegression`) dalam Library **ScikitLearn** python."
   ]
  },
  {
   "cell_type": "markdown",
   "metadata": {},
   "source": [
    "Impor library yang diperlukan"
   ]
  },
  {
   "cell_type": "code",
   "execution_count": 55,
   "metadata": {},
   "outputs": [],
   "source": [
    "import pandas as pd  \n",
    "import numpy as np  \n",
    "import matplotlib.pyplot as plt  \n",
    "from sklearn.model_selection import train_test_split \n",
    "from sklearn.linear_model import LinearRegression\n",
    "from sklearn.metrics import mean_squared_error, r2_score\n",
    "%matplotlib inline\n",
    "\n",
    "import warnings\n",
    "warnings.filterwarnings('ignore')"
   ]
  },
  {
   "cell_type": "markdown",
   "metadata": {},
   "source": [
    "Memanggil kembali dataset yang sama"
   ]
  },
  {
   "cell_type": "code",
   "execution_count": 63,
   "metadata": {},
   "outputs": [
    {
     "name": "stdout",
     "output_type": "stream",
     "text": [
      "(237, 4)\n"
     ]
    },
    {
     "data": {
      "text/html": [
       "<div>\n",
       "<style scoped>\n",
       "    .dataframe tbody tr th:only-of-type {\n",
       "        vertical-align: middle;\n",
       "    }\n",
       "\n",
       "    .dataframe tbody tr th {\n",
       "        vertical-align: top;\n",
       "    }\n",
       "\n",
       "    .dataframe thead th {\n",
       "        text-align: right;\n",
       "    }\n",
       "</style>\n",
       "<table border=\"1\" class=\"dataframe\">\n",
       "  <thead>\n",
       "    <tr style=\"text-align: right;\">\n",
       "      <th></th>\n",
       "      <th>Gender</th>\n",
       "      <th>Age Range</th>\n",
       "      <th>Head Size(cm^3)</th>\n",
       "      <th>Brain Weight(grams)</th>\n",
       "    </tr>\n",
       "  </thead>\n",
       "  <tbody>\n",
       "    <tr>\n",
       "      <th>0</th>\n",
       "      <td>1</td>\n",
       "      <td>1</td>\n",
       "      <td>4512</td>\n",
       "      <td>1530</td>\n",
       "    </tr>\n",
       "    <tr>\n",
       "      <th>1</th>\n",
       "      <td>1</td>\n",
       "      <td>1</td>\n",
       "      <td>3738</td>\n",
       "      <td>1297</td>\n",
       "    </tr>\n",
       "    <tr>\n",
       "      <th>2</th>\n",
       "      <td>1</td>\n",
       "      <td>1</td>\n",
       "      <td>4261</td>\n",
       "      <td>1335</td>\n",
       "    </tr>\n",
       "    <tr>\n",
       "      <th>3</th>\n",
       "      <td>1</td>\n",
       "      <td>1</td>\n",
       "      <td>3777</td>\n",
       "      <td>1282</td>\n",
       "    </tr>\n",
       "    <tr>\n",
       "      <th>4</th>\n",
       "      <td>1</td>\n",
       "      <td>1</td>\n",
       "      <td>4177</td>\n",
       "      <td>1590</td>\n",
       "    </tr>\n",
       "  </tbody>\n",
       "</table>\n",
       "</div>"
      ],
      "text/plain": [
       "   Gender  Age Range  Head Size(cm^3)  Brain Weight(grams)\n",
       "0       1          1             4512                 1530\n",
       "1       1          1             3738                 1297\n",
       "2       1          1             4261                 1335\n",
       "3       1          1             3777                 1282\n",
       "4       1          1             4177                 1590"
      ]
     },
     "execution_count": 63,
     "metadata": {},
     "output_type": "execute_result"
    }
   ],
   "source": [
    "dataset = pd.read_csv('https://raw.githubusercontent.com/jokoeliyanto/Channel-Hobi-Data/main/Model%20Machine%20Learning%20dari%20Dasar(From%20Scratch)%20Python/Dataset/dataset_regresi_linear.csv')\n",
    "# Melihat ukuran dataset\n",
    "print(dataset.shape)\n",
    "# Menampilkan 5 data teratas\n",
    "dataset.head()"
   ]
  },
  {
   "cell_type": "code",
   "execution_count": 64,
   "metadata": {},
   "outputs": [],
   "source": [
    "# Definisikan Variabel Input(X) dan Output(Y)\n",
    "X = dataset['Head Size(cm^3)'].values.reshape(-1,1)\n",
    "Y = dataset['Brain Weight(grams)'].values.reshape(-1,1)"
   ]
  },
  {
   "cell_type": "code",
   "execution_count": 65,
   "metadata": {},
   "outputs": [],
   "source": [
    "# Membagi data menjadi data training dan data testing\n",
    "X_train, X_test, y_train, y_test = train_test_split(X, Y, test_size=0.2, random_state=0)"
   ]
  },
  {
   "cell_type": "code",
   "execution_count": 66,
   "metadata": {},
   "outputs": [
    {
     "data": {
      "text/plain": [
       "LinearRegression()"
      ]
     },
     "execution_count": 66,
     "metadata": {},
     "output_type": "execute_result"
    }
   ],
   "source": [
    "# Membuat model regressi dengan library Scikit Learn\n",
    "regressor = LinearRegression()  \n",
    "# Proses Training Model\n",
    "regressor.fit(X_train, y_train) "
   ]
  },
  {
   "cell_type": "code",
   "execution_count": 67,
   "metadata": {},
   "outputs": [
    {
     "name": "stdout",
     "output_type": "stream",
     "text": [
      "Model Regresi Linier y=b0+b1x\n",
      "b1 [[0.26106902]]\n",
      "b0 [334.26127335]\n"
     ]
    }
   ],
   "source": [
    "#Mencetak parameter model regresi linier\n",
    "print('Model Regresi Linier y=b0+b1x')\n",
    "print('b1', regressor.coef_)\n",
    "print('b0', regressor.intercept_)"
   ]
  },
  {
   "cell_type": "code",
   "execution_count": 68,
   "metadata": {},
   "outputs": [],
   "source": [
    "# Prediksi data test\n",
    "y_pred = regressor.predict(X_test)"
   ]
  },
  {
   "cell_type": "code",
   "execution_count": 69,
   "metadata": {},
   "outputs": [
    {
     "name": "stdout",
     "output_type": "stream",
     "text": [
      "Koefisien determinasi 0.6392387551180254\n"
     ]
    }
   ],
   "source": [
    "#Mencetak koefisien determinasi model regresi linier\n",
    "r_sq=regressor.score(X_train, y_train)\n",
    "print('Koefisien determinasi', r_sq)"
   ]
  },
  {
   "cell_type": "markdown",
   "metadata": {},
   "source": [
    "## Kesimpulan"
   ]
  },
  {
   "cell_type": "markdown",
   "metadata": {},
   "source": [
    "Persamaan regresi linear adalah persamaan yang merepresentasikan pola hubungan linear antara dua variabel X dan Y.\n",
    "\n",
    "Metode OLS adalah metode untuk memperoleh persamaan regresi dengan ide dasar meminimumkan fungsi eror berdasarkan parameter persamaan regresi $b_0$ dan $b_1$.\n",
    "\n",
    "Program regresi linear OLS yang disusun pada Notebook ini menghasilkan output yang sama dengan fungsi `LinearRegression` dalam Library ScikitLearn python."
   ]
  },
  {
   "cell_type": "markdown",
   "metadata": {},
   "source": [
    "#### Referensi\n",
    "\n",
    "1. [Mubaris - Linear Regression From Scratch Python](https://towardsdatascience.com/linear-regression-from-scratch-cd0dee067f72)\n",
    "2. [Kumud Lakara - Coding Linear Regression from Scratch](https://towardsdatascience.com/coding-linear-regression-from-scratch-c42ec079902)\n",
    "3. [Belajar Statistik - Pembuktian B0 dan B1 OLS](https://www.youtube.com/watch?v=Jt_RD0IZhA0)\n",
    "4. [Machine Learning Mastery - Implement Simple Linear Regression Scratch Python](https://machinelearningmastery.com/implement-simple-linear-regression-scratch-python/)"
   ]
  }
 ],
 "metadata": {
  "kernelspec": {
   "display_name": "Python 3",
   "language": "python",
   "name": "python3"
  },
  "language_info": {
   "codemirror_mode": {
    "name": "ipython",
    "version": 3
   },
   "file_extension": ".py",
   "mimetype": "text/x-python",
   "name": "python",
   "nbconvert_exporter": "python",
   "pygments_lexer": "ipython3",
   "version": "3.8.5"
  }
 },
 "nbformat": 4,
 "nbformat_minor": 4
}
